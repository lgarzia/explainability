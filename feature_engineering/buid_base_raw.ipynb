{
 "cells": [
  {
   "cell_type": "code",
   "execution_count": 2,
   "metadata": {},
   "outputs": [],
   "source": [
    "import sqlite3 \n",
    "mshp_db_path = r\"C:\\Users\\lgarzia\\Documents\\GitHub\\explainability\\local_data\\data\\mshp.sqlite\" \n",
    "conn = sqlite3.connect(mshp_db_path)"
   ]
  },
  {
   "cell_type": "code",
   "execution_count": 53,
   "metadata": {},
   "outputs": [
    {
     "data": {
      "text/plain": [
       "<sqlite3.Cursor at 0x201490b5c40>"
      ]
     },
     "execution_count": 53,
     "metadata": {},
     "output_type": "execute_result"
    }
   ],
   "source": [
    "c = conn.cursor()\n",
    "c.execute(\"DROP TABLE pre_feature_eng_crs_ii\")"
   ]
  },
  {
   "cell_type": "code",
   "execution_count": 54,
   "metadata": {},
   "outputs": [],
   "source": [
    "sql = '''\t\n",
    "    CREATE TABLE pre_feature_eng_crs_ii AS\n",
    "    select DISTINCT dcr.acc_rpt_num, dcr.acc_uuid, \n",
    "\tcoalesce(dcr.Name, ii.Name) name,  \n",
    "\tcoalesce(dcr.\"Personal Injury\", ii.\"Injury Type\") injury_type, \n",
    "\tcoalesce(dcr.Age, ii.Age) age,\n",
    "\tcoalesce(dcr.\"Person City/State\", ii.\"City/State\") city_state,\n",
    "\tdcr.\"Safety Device\" AS safety_device, \n",
    "    dcr.Date AS date, \n",
    "    dcr.Time AS time, \n",
    "    dcr.Troop AS troop, \n",
    "    ii.Gender AS gender,\n",
    "\tii.\"Veh. #\" as veh_num, \n",
    "\tii.\"Involvement\" AS involvement\n",
    "\tfrom daily_crash_report dcr\n",
    "\tleft outer join injury_information ii on dcr.acc_uuid = ii.acc_uuid  --13751, inner(10129)\n",
    "\tand dcr.Name = ii.Name \n",
    "\tand dcr.Age = ii.Age \n",
    "\tand dcr.\"Person City/State\" = ii.\"City/State\"\n",
    "    where dcr.Name != 'JUVENILE,'\n",
    "'''\n",
    "# \t--and dcr.\"Personal Injury\" = ii.\"Injury Type\""
   ]
  },
  {
   "cell_type": "code",
   "execution_count": 55,
   "metadata": {},
   "outputs": [
    {
     "data": {
      "text/plain": [
       "<sqlite3.Cursor at 0x201490b5f40>"
      ]
     },
     "execution_count": 55,
     "metadata": {},
     "output_type": "execute_result"
    }
   ],
   "source": [
    "c = conn.cursor()\n",
    "c.execute(sql)"
   ]
  },
  {
   "cell_type": "code",
   "execution_count": 56,
   "metadata": {},
   "outputs": [],
   "source": [
    "import dataprep.connector as dbc\n",
    "import urllib\n",
    "table_name = \"injury_information\"\n",
    "mshp_db_path = r\"C:\\Users\\lgarzia\\Documents\\GitHub\\explainability\\local_data\\data\\mshp.sqlite\" \n",
    "mshp_db_path = urllib.parse.quote(mshp_db_path)\n",
    "mshp_db_conn = \"sqlite://\"+mshp_db_path"
   ]
  },
  {
   "cell_type": "code",
   "execution_count": 74,
   "metadata": {},
   "outputs": [],
   "source": [
    "df = dbc.read_sql(mshp_db_conn, f\"SELECT * FROM pre_feature_eng_crs_ii\")"
   ]
  },
  {
   "cell_type": "code",
   "execution_count": 58,
   "metadata": {},
   "outputs": [
    {
     "data": {
      "text/plain": [
       "(12127, 13)"
      ]
     },
     "execution_count": 58,
     "metadata": {},
     "output_type": "execute_result"
    }
   ],
   "source": [
    "df.shape"
   ]
  },
  {
   "cell_type": "code",
   "execution_count": 75,
   "metadata": {},
   "outputs": [
    {
     "data": {
      "text/html": [
       "<div>\n",
       "<style scoped>\n",
       "    .dataframe tbody tr th:only-of-type {\n",
       "        vertical-align: middle;\n",
       "    }\n",
       "\n",
       "    .dataframe tbody tr th {\n",
       "        vertical-align: top;\n",
       "    }\n",
       "\n",
       "    .dataframe thead th {\n",
       "        text-align: right;\n",
       "    }\n",
       "</style>\n",
       "<table border=\"1\" class=\"dataframe\">\n",
       "  <thead>\n",
       "    <tr style=\"text-align: right;\">\n",
       "      <th></th>\n",
       "      <th>acc_rpt_num</th>\n",
       "      <th>acc_uuid</th>\n",
       "      <th>name</th>\n",
       "      <th>injury_type</th>\n",
       "      <th>age</th>\n",
       "      <th>city_state</th>\n",
       "      <th>safety_device</th>\n",
       "      <th>date</th>\n",
       "      <th>time</th>\n",
       "      <th>troop</th>\n",
       "      <th>gender</th>\n",
       "      <th>veh_num</th>\n",
       "    </tr>\n",
       "    <tr>\n",
       "      <th>involvement</th>\n",
       "      <th></th>\n",
       "      <th></th>\n",
       "      <th></th>\n",
       "      <th></th>\n",
       "      <th></th>\n",
       "      <th></th>\n",
       "      <th></th>\n",
       "      <th></th>\n",
       "      <th></th>\n",
       "      <th></th>\n",
       "      <th></th>\n",
       "      <th></th>\n",
       "    </tr>\n",
       "  </thead>\n",
       "  <tbody>\n",
       "    <tr>\n",
       "      <th>BICYCLIST</th>\n",
       "      <td>14</td>\n",
       "      <td>14</td>\n",
       "      <td>14</td>\n",
       "      <td>14</td>\n",
       "      <td>14</td>\n",
       "      <td>14</td>\n",
       "      <td>14</td>\n",
       "      <td>14</td>\n",
       "      <td>14</td>\n",
       "      <td>14</td>\n",
       "      <td>14</td>\n",
       "      <td>14</td>\n",
       "    </tr>\n",
       "    <tr>\n",
       "      <th>DRIVER</th>\n",
       "      <td>6761</td>\n",
       "      <td>6761</td>\n",
       "      <td>6761</td>\n",
       "      <td>6761</td>\n",
       "      <td>6761</td>\n",
       "      <td>6761</td>\n",
       "      <td>6761</td>\n",
       "      <td>6761</td>\n",
       "      <td>6761</td>\n",
       "      <td>6761</td>\n",
       "      <td>6761</td>\n",
       "      <td>6761</td>\n",
       "    </tr>\n",
       "    <tr>\n",
       "      <th>OCCUPANT</th>\n",
       "      <td>1803</td>\n",
       "      <td>1803</td>\n",
       "      <td>1803</td>\n",
       "      <td>1803</td>\n",
       "      <td>1803</td>\n",
       "      <td>1803</td>\n",
       "      <td>1803</td>\n",
       "      <td>1803</td>\n",
       "      <td>1803</td>\n",
       "      <td>1803</td>\n",
       "      <td>1803</td>\n",
       "      <td>1803</td>\n",
       "    </tr>\n",
       "    <tr>\n",
       "      <th>OTHER</th>\n",
       "      <td>2</td>\n",
       "      <td>2</td>\n",
       "      <td>2</td>\n",
       "      <td>2</td>\n",
       "      <td>2</td>\n",
       "      <td>2</td>\n",
       "      <td>2</td>\n",
       "      <td>2</td>\n",
       "      <td>2</td>\n",
       "      <td>2</td>\n",
       "      <td>2</td>\n",
       "      <td>2</td>\n",
       "    </tr>\n",
       "    <tr>\n",
       "      <th>PEDESTRIAN</th>\n",
       "      <td>140</td>\n",
       "      <td>140</td>\n",
       "      <td>140</td>\n",
       "      <td>140</td>\n",
       "      <td>140</td>\n",
       "      <td>140</td>\n",
       "      <td>140</td>\n",
       "      <td>140</td>\n",
       "      <td>140</td>\n",
       "      <td>140</td>\n",
       "      <td>140</td>\n",
       "      <td>140</td>\n",
       "    </tr>\n",
       "  </tbody>\n",
       "</table>\n",
       "</div>"
      ],
      "text/plain": [
       "             acc_rpt_num  acc_uuid  name  injury_type   age  city_state  \\\n",
       "involvement                                                               \n",
       "BICYCLIST             14        14    14           14    14          14   \n",
       "DRIVER              6761      6761  6761         6761  6761        6761   \n",
       "OCCUPANT            1803      1803  1803         1803  1803        1803   \n",
       "OTHER                  2         2     2            2     2           2   \n",
       "PEDESTRIAN           140       140   140          140   140         140   \n",
       "\n",
       "             safety_device  date  time  troop  gender  veh_num  \n",
       "involvement                                                     \n",
       "BICYCLIST               14    14    14     14      14       14  \n",
       "DRIVER                6761  6761  6761   6761    6761     6761  \n",
       "OCCUPANT              1803  1803  1803   1803    1803     1803  \n",
       "OTHER                    2     2     2      2       2        2  \n",
       "PEDESTRIAN             140   140   140    140     140      140  "
      ]
     },
     "execution_count": 75,
     "metadata": {},
     "output_type": "execute_result"
    }
   ],
   "source": [
    "df.groupby('involvement').count()\n",
    "# big drop in occupants from raw injury table\n",
    "# theory is Juvenile are overwhelming percentage of OCCUPANTS"
   ]
  },
  {
   "cell_type": "code",
   "execution_count": 59,
   "metadata": {},
   "outputs": [
    {
     "data": {
      "text/plain": [
       "acc_rpt_num      12127\n",
       "acc_uuid         12127\n",
       "name             12127\n",
       "injury_type      12127\n",
       "age              12127\n",
       "city_state       12097\n",
       "safety_device    12127\n",
       "date             12127\n",
       "time             12127\n",
       "troop            12127\n",
       "gender            8720\n",
       "veh_num           8720\n",
       "involvement       8720\n",
       "dtype: int64"
      ]
     },
     "execution_count": 59,
     "metadata": {},
     "output_type": "execute_result"
    }
   ],
   "source": [
    "df.count()"
   ]
  },
  {
   "cell_type": "code",
   "execution_count": 60,
   "metadata": {},
   "outputs": [],
   "source": [
    "# question is it possible to back into missing gender\n",
    "# idea - get most from vehicle"
   ]
  },
  {
   "cell_type": "code",
   "execution_count": 61,
   "metadata": {},
   "outputs": [
    {
     "data": {
      "text/plain": [
       "<sqlite3.Cursor at 0x201490b6540>"
      ]
     },
     "execution_count": 61,
     "metadata": {},
     "output_type": "execute_result"
    }
   ],
   "source": [
    "c = conn.cursor()\n",
    "c.execute(\"DROP TABLE pre_feature_eng\")"
   ]
  },
  {
   "cell_type": "code",
   "execution_count": 62,
   "metadata": {},
   "outputs": [],
   "source": [
    "sql = ''' \n",
    "CREATE TABLE pre_feature_eng AS\n",
    "\n",
    "select distinct cii.acc_rpt_num, cii.acc_uuid, cii.name, cii.injury_type, cii.age, \n",
    "cii.city_state, cii.safety_device, cii.date, cii.time, cii.troop, \n",
    "coalesce(cii.gender, vi.\"Driver Gender\") AS gender, \n",
    "coalesce(cii.veh_num, vi.\"Veh. #\") AS veh_num,\n",
    "coalesce(cii.involvement, \"DRIVER\") AS involvement,\n",
    "vi.\"Vehicle Direction\" AS vehicle_direction\n",
    "\n",
    "from pre_feature_eng_crs_ii cii\n",
    "left outer join vehicle_information vi \n",
    "on  cii.acc_uuid = vi.acc_uuid  --13751, inner(10129)\n",
    "and cii.name = vi.\"Driver Name\" \n",
    "and cii.age = vi.\"Driver Age\" \n",
    "and cii.\"city_state\" = vi.\"Driver City/State\"\n",
    "'''"
   ]
  },
  {
   "cell_type": "code",
   "execution_count": 63,
   "metadata": {},
   "outputs": [
    {
     "data": {
      "text/plain": [
       "<sqlite3.Cursor at 0x201460c7640>"
      ]
     },
     "execution_count": 63,
     "metadata": {},
     "output_type": "execute_result"
    }
   ],
   "source": [
    "c = conn.cursor()\n",
    "c.execute(sql)"
   ]
  },
  {
   "cell_type": "code",
   "execution_count": 64,
   "metadata": {},
   "outputs": [],
   "source": [
    "df = dbc.read_sql(mshp_db_conn, f\"SELECT * FROM pre_feature_eng\") "
   ]
  },
  {
   "cell_type": "code",
   "execution_count": 65,
   "metadata": {},
   "outputs": [
    {
     "data": {
      "text/plain": [
       "acc_rpt_num          12130\n",
       "acc_uuid             12130\n",
       "name                 12130\n",
       "injury_type          12130\n",
       "age                  12130\n",
       "city_state           12100\n",
       "safety_device        12130\n",
       "date                 12130\n",
       "time                 12130\n",
       "troop                12130\n",
       "gender               12100\n",
       "veh_num              12100\n",
       "involvement          12130\n",
       "vehicle_direction    10086\n",
       "dtype: int64"
      ]
     },
     "execution_count": 65,
     "metadata": {},
     "output_type": "execute_result"
    }
   ],
   "source": [
    "df.count() # 12130 versus 12127 picked up some dupes will ignore for now"
   ]
  },
  {
   "cell_type": "code",
   "execution_count": 76,
   "metadata": {},
   "outputs": [],
   "source": [
    "sql = '''\n",
    "CREATE TABLE pre_feature_eng_base AS\n",
    "With veh_dir AS \n",
    "(\n",
    "SELECT vi.acc_uuid, vi.\"Veh. #\" AS veh_num, MAX(vi.\"Vehicle Direction\") AS vehicle_direction\n",
    "FROM vehicle_information vi\n",
    "GROUP BY vi.acc_uuid, vi.\"Veh. #\"\n",
    "\n",
    ")\n",
    "SELECT e.acc_rpt_num, e.acc_uuid, e.name, e.injury_type, e.age, \n",
    "e.city_state, e.safety_device, e.date, e.time, e.troop, \n",
    "e.gender, e.veh_num, e.involvement,\n",
    "coalesce(e.vehicle_direction, d.vehicle_direction) AS vehicle_direction\n",
    "FROM pre_feature_eng e \n",
    "LEFT join veh_dir d on e.acc_uuid = d.acc_uuid AND e.veh_num = d.veh_num\n",
    "'''"
   ]
  },
  {
   "cell_type": "code",
   "execution_count": 77,
   "metadata": {},
   "outputs": [
    {
     "data": {
      "text/plain": [
       "<sqlite3.Cursor at 0x201490b43c0>"
      ]
     },
     "execution_count": 77,
     "metadata": {},
     "output_type": "execute_result"
    }
   ],
   "source": [
    "c = conn.cursor()\n",
    "c.execute(sql)"
   ]
  },
  {
   "cell_type": "code",
   "execution_count": 78,
   "metadata": {},
   "outputs": [],
   "source": [
    "df = dbc.read_sql(mshp_db_conn,\"SELECT * FROM pre_feature_eng_base\") "
   ]
  },
  {
   "cell_type": "code",
   "execution_count": 79,
   "metadata": {},
   "outputs": [
    {
     "data": {
      "text/plain": [
       "acc_rpt_num          12130\n",
       "acc_uuid             12130\n",
       "name                 12130\n",
       "injury_type          12130\n",
       "age                  12130\n",
       "city_state           12100\n",
       "safety_device        12130\n",
       "date                 12130\n",
       "time                 12130\n",
       "troop                12130\n",
       "gender               12100\n",
       "veh_num              12100\n",
       "involvement          12130\n",
       "vehicle_direction    12098\n",
       "dtype: int64"
      ]
     },
     "execution_count": 79,
     "metadata": {},
     "output_type": "execute_result"
    }
   ],
   "source": [
    "df.count()"
   ]
  },
  {
   "cell_type": "code",
   "execution_count": 29,
   "metadata": {},
   "outputs": [
    {
     "name": "stderr",
     "output_type": "stream",
     "text": [
      "Pandas backend loaded 1.5.3\n",
      "Numpy backend loaded 1.23.5\n",
      "Pyspark backend NOT loaded\n",
      "Python backend loaded\n"
     ]
    }
   ],
   "source": [
    "from ydata_profiling import ProfileReport"
   ]
  },
  {
   "cell_type": "code",
   "execution_count": 80,
   "metadata": {},
   "outputs": [],
   "source": [
    "table_name = \"pre_feature_eng_base\"\n",
    "profile = ProfileReport(df, title=f\"Profiling Report for {table_name}\")"
   ]
  },
  {
   "cell_type": "code",
   "execution_count": 81,
   "metadata": {},
   "outputs": [
    {
     "data": {
      "application/vnd.jupyter.widget-view+json": {
       "model_id": "f57829c5583249ccbcf22da3c1b02dd0",
       "version_major": 2,
       "version_minor": 0
      },
      "text/plain": [
       "Summarize dataset:   0%|          | 0/5 [00:00<?, ?it/s]"
      ]
     },
     "metadata": {},
     "output_type": "display_data"
    },
    {
     "data": {
      "application/vnd.jupyter.widget-view+json": {
       "model_id": "a9d17ea26ce240579ddb364d55a06ab9",
       "version_major": 2,
       "version_minor": 0
      },
      "text/plain": [
       "Generate report structure:   0%|          | 0/1 [00:00<?, ?it/s]"
      ]
     },
     "metadata": {},
     "output_type": "display_data"
    },
    {
     "data": {
      "application/vnd.jupyter.widget-view+json": {
       "model_id": "4e806ec42aa64a6996e0cd127a908447",
       "version_major": 2,
       "version_minor": 0
      },
      "text/plain": [
       "Render HTML:   0%|          | 0/1 [00:00<?, ?it/s]"
      ]
     },
     "metadata": {},
     "output_type": "display_data"
    },
    {
     "name": "stderr",
     "output_type": "stream",
     "text": [
      "c:\\Users\\lgarzia\\Documents\\GitHub\\explainability\\venv\\lib\\site-packages\\ydata_profiling\\profile_report.py:355: UserWarning: Extension  not supported. For now we assume .html was intended. To remove this warning, please use .html or .json.\n",
      "  warnings.warn(\n"
     ]
    },
    {
     "data": {
      "application/vnd.jupyter.widget-view+json": {
       "model_id": "b9dc48025a5b4d439b6778c80ce1479d",
       "version_major": 2,
       "version_minor": 0
      },
      "text/plain": [
       "Export report to file:   0%|          | 0/1 [00:00<?, ?it/s]"
      ]
     },
     "metadata": {},
     "output_type": "display_data"
    }
   ],
   "source": [
    "profile.to_file(f\"Profiling Report for {table_name}\")"
   ]
  },
  {
   "cell_type": "code",
   "execution_count": 33,
   "metadata": {},
   "outputs": [],
   "source": [
    "# Question - still missing gender - what of 55\n",
    "    # ANS - fixed issue with join on Injury Type - no have dupes that need to be cleaned\n",
    "\n",
    "# Question - 3 missing vehicle direction - can we obtain the remainder with a join on acc_uuid & veh_num\n",
    "# ANS - yes\n",
    "# Question - would removing Juveniles help\n",
    "# ANS - yes -> proceed with removing for analysis Name != 'JUVENILE,'"
   ]
  },
  {
   "cell_type": "code",
   "execution_count": 36,
   "metadata": {},
   "outputs": [
    {
     "data": {
      "text/html": [
       "<div>\n",
       "<style scoped>\n",
       "    .dataframe tbody tr th:only-of-type {\n",
       "        vertical-align: middle;\n",
       "    }\n",
       "\n",
       "    .dataframe tbody tr th {\n",
       "        vertical-align: top;\n",
       "    }\n",
       "\n",
       "    .dataframe thead th {\n",
       "        text-align: right;\n",
       "    }\n",
       "</style>\n",
       "<table border=\"1\" class=\"dataframe\">\n",
       "  <thead>\n",
       "    <tr style=\"text-align: right;\">\n",
       "      <th></th>\n",
       "      <th>acc_rpt_num</th>\n",
       "      <th>acc_uuid</th>\n",
       "      <th>name</th>\n",
       "      <th>injury_type</th>\n",
       "      <th>age</th>\n",
       "      <th>city_state</th>\n",
       "      <th>safety_device</th>\n",
       "      <th>date</th>\n",
       "      <th>time</th>\n",
       "      <th>troop</th>\n",
       "      <th>gender</th>\n",
       "      <th>veh_num</th>\n",
       "      <th>involvement</th>\n",
       "      <th>vehicle_direction</th>\n",
       "    </tr>\n",
       "  </thead>\n",
       "  <tbody>\n",
       "    <tr>\n",
       "      <th>143</th>\n",
       "      <td>220121269</td>\n",
       "      <td>831f4197-f4aa-4cfe-b45b-b5fb865a04f0</td>\n",
       "      <td>MILBOURN, KAYTIE L</td>\n",
       "      <td>NO INJURY</td>\n",
       "      <td>20</td>\n",
       "      <td>KIDDER, MO</td>\n",
       "      <td>UNKNOWN</td>\n",
       "      <td>03/10/2022</td>\n",
       "      <td>5:33PM</td>\n",
       "      <td>H</td>\n",
       "      <td>None</td>\n",
       "      <td>&lt;NA&gt;</td>\n",
       "      <td>DRIVER</td>\n",
       "      <td>None</td>\n",
       "    </tr>\n",
       "    <tr>\n",
       "      <th>144</th>\n",
       "      <td>220121269</td>\n",
       "      <td>3506e870-f374-4aa9-93fb-cd0e42dbabb0</td>\n",
       "      <td>ORR, BRIDGETTE L</td>\n",
       "      <td>NO INJURY</td>\n",
       "      <td>22</td>\n",
       "      <td>HAMILTON, MO</td>\n",
       "      <td>NO</td>\n",
       "      <td>03/10/2022</td>\n",
       "      <td>5:33PM</td>\n",
       "      <td>H</td>\n",
       "      <td>None</td>\n",
       "      <td>&lt;NA&gt;</td>\n",
       "      <td>DRIVER</td>\n",
       "      <td>None</td>\n",
       "    </tr>\n",
       "    <tr>\n",
       "      <th>628</th>\n",
       "      <td>220147421</td>\n",
       "      <td>e3b1166a-9226-4490-a23d-6dbafd4d8eb9</td>\n",
       "      <td>UNKNOWN, UNKNOWN</td>\n",
       "      <td>NO INJURY</td>\n",
       "      <td>UNK</td>\n",
       "      <td>None</td>\n",
       "      <td>UNKNOWN</td>\n",
       "      <td>03/25/2022</td>\n",
       "      <td>8:05AM</td>\n",
       "      <td>C</td>\n",
       "      <td>None</td>\n",
       "      <td>&lt;NA&gt;</td>\n",
       "      <td>DRIVER</td>\n",
       "      <td>None</td>\n",
       "    </tr>\n",
       "    <tr>\n",
       "      <th>629</th>\n",
       "      <td>220147363</td>\n",
       "      <td>58235742-d6c7-414e-b151-c853f90922ca</td>\n",
       "      <td>HESTER, STEPHEN L</td>\n",
       "      <td>NO INJURY</td>\n",
       "      <td>18</td>\n",
       "      <td>MOUNTAIN VIEW, MO</td>\n",
       "      <td>YES</td>\n",
       "      <td>03/25/2022</td>\n",
       "      <td>7:30AM</td>\n",
       "      <td>G</td>\n",
       "      <td>None</td>\n",
       "      <td>&lt;NA&gt;</td>\n",
       "      <td>DRIVER</td>\n",
       "      <td>None</td>\n",
       "    </tr>\n",
       "    <tr>\n",
       "      <th>687</th>\n",
       "      <td>220154476</td>\n",
       "      <td>278223ac-acf2-49ef-a055-05056f55bb47</td>\n",
       "      <td>UNKNOWN, UNKNOWN</td>\n",
       "      <td>NO INJURY</td>\n",
       "      <td>UNK</td>\n",
       "      <td>None</td>\n",
       "      <td>UNKNOWN</td>\n",
       "      <td>03/28/2022</td>\n",
       "      <td>3:00PM</td>\n",
       "      <td>D</td>\n",
       "      <td>None</td>\n",
       "      <td>&lt;NA&gt;</td>\n",
       "      <td>DRIVER</td>\n",
       "      <td>None</td>\n",
       "    </tr>\n",
       "    <tr>\n",
       "      <th>891</th>\n",
       "      <td>220164885</td>\n",
       "      <td>13725b6c-5692-4a0e-90b5-e841013fd5ed</td>\n",
       "      <td>UNK, UNK</td>\n",
       "      <td>NO INJURY</td>\n",
       "      <td>UNK</td>\n",
       "      <td>None</td>\n",
       "      <td>UNKNOWN</td>\n",
       "      <td>04/03/2022</td>\n",
       "      <td>12:37PM</td>\n",
       "      <td>C</td>\n",
       "      <td>None</td>\n",
       "      <td>&lt;NA&gt;</td>\n",
       "      <td>DRIVER</td>\n",
       "      <td>None</td>\n",
       "    </tr>\n",
       "    <tr>\n",
       "      <th>906</th>\n",
       "      <td>220164473</td>\n",
       "      <td>8bee3e66-7112-40e7-a6ef-6a9958b732e7</td>\n",
       "      <td>UNKNOWN, UNKNOWN</td>\n",
       "      <td>NO INJURY</td>\n",
       "      <td>UNK</td>\n",
       "      <td>None</td>\n",
       "      <td>UNKNOWN</td>\n",
       "      <td>04/03/2022</td>\n",
       "      <td>2:14AM</td>\n",
       "      <td>D</td>\n",
       "      <td>None</td>\n",
       "      <td>&lt;NA&gt;</td>\n",
       "      <td>DRIVER</td>\n",
       "      <td>None</td>\n",
       "    </tr>\n",
       "    <tr>\n",
       "      <th>1063</th>\n",
       "      <td>220178007</td>\n",
       "      <td>adaed995-a897-4af2-af55-b5e567845edb</td>\n",
       "      <td>UNKNOWN, UNKNOWN</td>\n",
       "      <td>NO INJURY</td>\n",
       "      <td>UNK</td>\n",
       "      <td>None</td>\n",
       "      <td>UNKNOWN</td>\n",
       "      <td>04/09/2022</td>\n",
       "      <td>8:30PM</td>\n",
       "      <td>G</td>\n",
       "      <td>None</td>\n",
       "      <td>&lt;NA&gt;</td>\n",
       "      <td>DRIVER</td>\n",
       "      <td>None</td>\n",
       "    </tr>\n",
       "    <tr>\n",
       "      <th>1426</th>\n",
       "      <td>220199768</td>\n",
       "      <td>de62c379-2cec-42fe-a6ce-a826bbbc48ed</td>\n",
       "      <td>JUVENILE,</td>\n",
       "      <td>NO INJURY</td>\n",
       "      <td>0</td>\n",
       "      <td>LATHROP, MO</td>\n",
       "      <td>YES</td>\n",
       "      <td>04/21/2022</td>\n",
       "      <td>3:20PM</td>\n",
       "      <td>A</td>\n",
       "      <td>None</td>\n",
       "      <td>&lt;NA&gt;</td>\n",
       "      <td>DRIVER</td>\n",
       "      <td>None</td>\n",
       "    </tr>\n",
       "    <tr>\n",
       "      <th>1639</th>\n",
       "      <td>220209109</td>\n",
       "      <td>f25715fb-4098-4930-a7d6-4d49609c7660</td>\n",
       "      <td>PAYNE, EVELYN N</td>\n",
       "      <td>NO INJURY</td>\n",
       "      <td>39</td>\n",
       "      <td>MARSHALL, MO</td>\n",
       "      <td>YES</td>\n",
       "      <td>04/26/2022</td>\n",
       "      <td>11:59AM</td>\n",
       "      <td>A</td>\n",
       "      <td>None</td>\n",
       "      <td>&lt;NA&gt;</td>\n",
       "      <td>DRIVER</td>\n",
       "      <td>None</td>\n",
       "    </tr>\n",
       "  </tbody>\n",
       "</table>\n",
       "</div>"
      ],
      "text/plain": [
       "     acc_rpt_num                              acc_uuid                name  \\\n",
       "143    220121269  831f4197-f4aa-4cfe-b45b-b5fb865a04f0  MILBOURN, KAYTIE L   \n",
       "144    220121269  3506e870-f374-4aa9-93fb-cd0e42dbabb0    ORR, BRIDGETTE L   \n",
       "628    220147421  e3b1166a-9226-4490-a23d-6dbafd4d8eb9    UNKNOWN, UNKNOWN   \n",
       "629    220147363  58235742-d6c7-414e-b151-c853f90922ca   HESTER, STEPHEN L   \n",
       "687    220154476  278223ac-acf2-49ef-a055-05056f55bb47    UNKNOWN, UNKNOWN   \n",
       "891    220164885  13725b6c-5692-4a0e-90b5-e841013fd5ed            UNK, UNK   \n",
       "906    220164473  8bee3e66-7112-40e7-a6ef-6a9958b732e7    UNKNOWN, UNKNOWN   \n",
       "1063   220178007  adaed995-a897-4af2-af55-b5e567845edb    UNKNOWN, UNKNOWN   \n",
       "1426   220199768  de62c379-2cec-42fe-a6ce-a826bbbc48ed           JUVENILE,   \n",
       "1639   220209109  f25715fb-4098-4930-a7d6-4d49609c7660     PAYNE, EVELYN N   \n",
       "\n",
       "     injury_type  age         city_state safety_device        date     time  \\\n",
       "143    NO INJURY   20         KIDDER, MO       UNKNOWN  03/10/2022   5:33PM   \n",
       "144    NO INJURY   22       HAMILTON, MO            NO  03/10/2022   5:33PM   \n",
       "628    NO INJURY  UNK               None       UNKNOWN  03/25/2022   8:05AM   \n",
       "629    NO INJURY   18  MOUNTAIN VIEW, MO           YES  03/25/2022   7:30AM   \n",
       "687    NO INJURY  UNK               None       UNKNOWN  03/28/2022   3:00PM   \n",
       "891    NO INJURY  UNK               None       UNKNOWN  04/03/2022  12:37PM   \n",
       "906    NO INJURY  UNK               None       UNKNOWN  04/03/2022   2:14AM   \n",
       "1063   NO INJURY  UNK               None       UNKNOWN  04/09/2022   8:30PM   \n",
       "1426   NO INJURY    0        LATHROP, MO           YES  04/21/2022   3:20PM   \n",
       "1639   NO INJURY   39       MARSHALL, MO           YES  04/26/2022  11:59AM   \n",
       "\n",
       "     troop gender  veh_num involvement vehicle_direction  \n",
       "143      H   None     <NA>      DRIVER              None  \n",
       "144      H   None     <NA>      DRIVER              None  \n",
       "628      C   None     <NA>      DRIVER              None  \n",
       "629      G   None     <NA>      DRIVER              None  \n",
       "687      D   None     <NA>      DRIVER              None  \n",
       "891      C   None     <NA>      DRIVER              None  \n",
       "906      D   None     <NA>      DRIVER              None  \n",
       "1063     G   None     <NA>      DRIVER              None  \n",
       "1426     A   None     <NA>      DRIVER              None  \n",
       "1639     A   None     <NA>      DRIVER              None  "
      ]
     },
     "execution_count": 36,
     "metadata": {},
     "output_type": "execute_result"
    }
   ],
   "source": [
    "import numpy as np\n",
    "df[df.gender.isnull()].head(n=10)\n",
    "# '831f4197-f4aa-4cfe-b45b-b5fb865a04f0' <-- involvement isn't right\n",
    "# appears Injury Type in None versus NO INJURY "
   ]
  },
  {
   "cell_type": "code",
   "execution_count": null,
   "metadata": {},
   "outputs": [],
   "source": []
  }
 ],
 "metadata": {
  "kernelspec": {
   "display_name": "venv_tfx",
   "language": "python",
   "name": "python3"
  },
  "language_info": {
   "codemirror_mode": {
    "name": "ipython",
    "version": 3
   },
   "file_extension": ".py",
   "mimetype": "text/x-python",
   "name": "python",
   "nbconvert_exporter": "python",
   "pygments_lexer": "ipython3",
   "version": "3.10.9"
  },
  "orig_nbformat": 4,
  "vscode": {
   "interpreter": {
    "hash": "880dcd1f9cd3410ac81da025f2dd652eff9d1b20559a4efc4e24a47d4693e7ac"
   }
  }
 },
 "nbformat": 4,
 "nbformat_minor": 2
}
