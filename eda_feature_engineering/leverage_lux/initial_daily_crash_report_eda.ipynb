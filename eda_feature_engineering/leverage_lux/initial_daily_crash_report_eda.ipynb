{
 "cells": [
  {
   "cell_type": "code",
   "execution_count": 1,
   "metadata": {},
   "outputs": [],
   "source": [
    "import lux\n",
    "import dataprep.connector as dbc\n",
    "import urllib\n",
    "mshp_db_path = r\"C:\\Users\\lgarzia\\Documents\\GitHub\\explainability\\local_data\\data\\mshp.sqlite\" \n",
    "mshp_db_path = urllib.parse.quote(mshp_db_path)\n",
    "mshp_db_conn = \"sqlite://\"+mshp_db_path\n",
    "df = dbc.read_sql(mshp_db_conn, \"SELECT * FROM daily_crash_report\")"
   ]
  },
  {
   "cell_type": "code",
   "execution_count": 2,
   "metadata": {},
   "outputs": [
    {
     "data": {
      "text/plain": [
       "lux.core.frame.LuxDataFrame"
      ]
     },
     "execution_count": 2,
     "metadata": {},
     "output_type": "execute_result"
    }
   ],
   "source": [
    "type(df)"
   ]
  },
  {
   "cell_type": "code",
   "execution_count": 3,
   "metadata": {},
   "outputs": [
    {
     "name": "stderr",
     "output_type": "stream",
     "text": [
      "c:\\Users\\lgarzia\\Documents\\GitHub\\explainability\\venv\\lib\\site-packages\\lux\\executor\\PandasExecutor.py:448: UserWarning:\n",
      "Lux detects that attributes ['Date', 'Time'] may be temporal.\n",
      "To display visualizations for these attributes accurately, please convert temporal attributes to Datetime objects.\n",
      "For example, you can convert a Year attribute (e.g., 1998, 1971, 1982) using pd.to_datetime by specifying the `format` as '%Y'.\n",
      "\n",
      "Here is a starter template that you can use for converting the temporal fields:\n",
      "\tdf['Date'] = pd.to_datetime(df['Date'], format='<replace-with-datetime-format>')\n",
      "\tdf['Time'] = pd.to_datetime(df['Time'], format='<replace-with-datetime-format>')\n",
      "\n",
      "See more at: https://pandas.pydata.org/pandas-docs/stable/reference/api/pandas.to_datetime.html\n",
      "If Time is not a temporal attribute, please use override Lux's automatically detected type:\n",
      "\tdf.set_data_type({'Time':'quantitative'})\n",
      "c:\\Users\\lgarzia\\Documents\\GitHub\\explainability\\venv\\lib\\site-packages\\lux\\interestingness\\interestingness.py:166: UserWarning:An error occurred when computing interestingness for: <Vis  (x: BIN(index), y: COUNT(Record)) mark: histogram, score: 0.0 >\n"
     ]
    },
    {
     "data": {
      "application/vnd.jupyter.widget-view+json": {
       "model_id": "abf6aafd8c824c2bab6684442d1e3ec9",
       "version_major": 2,
       "version_minor": 0
      },
      "text/plain": [
       "Button(description='Toggle Pandas/Lux', layout=Layout(top='5px', width='140px'), style=ButtonStyle())"
      ]
     },
     "metadata": {},
     "output_type": "display_data"
    },
    {
     "data": {
      "application/vnd.jupyter.widget-view+json": {
       "model_id": "f7a9bf3528744f969bb0a3afab03f42c",
       "version_major": 2,
       "version_minor": 0
      },
      "text/plain": [
       "Output()"
      ]
     },
     "metadata": {},
     "output_type": "display_data"
    }
   ],
   "source": [
    "df"
   ]
  },
  {
   "cell_type": "code",
   "execution_count": 4,
   "metadata": {},
   "outputs": [
    {
     "data": {
      "text/plain": [
       "Index(['index', 'raw_href', 'acc_rpt_num', 'acc_uuid', 'Report', 'Name', 'Age',\n",
       "       'Person City/State', 'Personal Injury', 'Safety Device', 'Date', 'Time',\n",
       "       'Crash County', 'Crash Location', 'Troop'],\n",
       "      dtype='object')"
      ]
     },
     "execution_count": 4,
     "metadata": {},
     "output_type": "execute_result"
    }
   ],
   "source": [
    "df.columns"
   ]
  },
  {
   "cell_type": "code",
   "execution_count": 5,
   "metadata": {},
   "outputs": [
    {
     "ename": "ValueError",
     "evalue": "The truth value of a Series is ambiguous. Use a.empty, a.bool(), a.item(), a.any() or a.all().",
     "output_type": "error",
     "traceback": [
      "\u001b[1;31m---------------------------------------------------------------------------\u001b[0m",
      "\u001b[1;31mValueError\u001b[0m                                Traceback (most recent call last)",
      "Cell \u001b[1;32mIn[5], line 2\u001b[0m\n\u001b[0;32m      1\u001b[0m \u001b[39mfrom\u001b[39;00m \u001b[39mlux\u001b[39;00m\u001b[39m.\u001b[39;00m\u001b[39mvis\u001b[39;00m\u001b[39m.\u001b[39;00m\u001b[39mVis\u001b[39;00m \u001b[39mimport\u001b[39;00m Vis\n\u001b[1;32m----> 2\u001b[0m Vis([\u001b[39m'\u001b[39;49m\u001b[39mDate\u001b[39;49m\u001b[39m'\u001b[39;49m, \u001b[39m'\u001b[39;49m\u001b[39mAge\u001b[39;49m\u001b[39m'\u001b[39;49m],df)\n",
      "File \u001b[1;32mc:\\Users\\lgarzia\\Documents\\GitHub\\explainability\\venv\\lib\\site-packages\\lux\\vis\\Vis.py:40\u001b[0m, in \u001b[0;36mVis.__init__\u001b[1;34m(self, intent, source, title, score)\u001b[0m\n\u001b[0;32m     38\u001b[0m \u001b[39mself\u001b[39m\u001b[39m.\u001b[39m_all_column \u001b[39m=\u001b[39m \u001b[39mFalse\u001b[39;00m\n\u001b[0;32m     39\u001b[0m \u001b[39mself\u001b[39m\u001b[39m.\u001b[39mapprox \u001b[39m=\u001b[39m \u001b[39mFalse\u001b[39;00m\n\u001b[1;32m---> 40\u001b[0m \u001b[39mself\u001b[39;49m\u001b[39m.\u001b[39;49mrefresh_source(\u001b[39mself\u001b[39;49m\u001b[39m.\u001b[39;49m_source)\n",
      "File \u001b[1;32mc:\\Users\\lgarzia\\Documents\\GitHub\\explainability\\venv\\lib\\site-packages\\lux\\vis\\Vis.py:398\u001b[0m, in \u001b[0;36mVis.refresh_source\u001b[1;34m(self, ldf)\u001b[0m\n\u001b[0;32m    395\u001b[0m Validator\u001b[39m.\u001b[39mvalidate_intent(\u001b[39mself\u001b[39m\u001b[39m.\u001b[39m_inferred_intent, ldf)\n\u001b[0;32m    397\u001b[0m Compiler\u001b[39m.\u001b[39mcompile_vis(ldf, \u001b[39mself\u001b[39m)\n\u001b[1;32m--> 398\u001b[0m lux\u001b[39m.\u001b[39;49mconfig\u001b[39m.\u001b[39;49mexecutor\u001b[39m.\u001b[39;49mexecute([\u001b[39mself\u001b[39;49m], ldf)\n",
      "File \u001b[1;32mc:\\Users\\lgarzia\\Documents\\GitHub\\explainability\\venv\\lib\\site-packages\\lux\\executor\\PandasExecutor.py:138\u001b[0m, in \u001b[0;36mPandasExecutor.execute\u001b[1;34m(vislist, ldf, approx)\u001b[0m\n\u001b[0;32m    135\u001b[0m vis\u001b[39m.\u001b[39m_vis_data \u001b[39m=\u001b[39m vis\u001b[39m.\u001b[39m_vis_data[\u001b[39mlist\u001b[39m(attributes)]\n\u001b[0;32m    137\u001b[0m \u001b[39mif\u001b[39;00m vis\u001b[39m.\u001b[39mmark \u001b[39m==\u001b[39m \u001b[39m\"\u001b[39m\u001b[39mbar\u001b[39m\u001b[39m\"\u001b[39m \u001b[39mor\u001b[39;00m vis\u001b[39m.\u001b[39mmark \u001b[39m==\u001b[39m \u001b[39m\"\u001b[39m\u001b[39mline\u001b[39m\u001b[39m\"\u001b[39m \u001b[39mor\u001b[39;00m vis\u001b[39m.\u001b[39mmark \u001b[39m==\u001b[39m \u001b[39m\"\u001b[39m\u001b[39mgeographical\u001b[39m\u001b[39m\"\u001b[39m:\n\u001b[1;32m--> 138\u001b[0m     PandasExecutor\u001b[39m.\u001b[39;49mexecute_aggregate(vis, isFiltered\u001b[39m=\u001b[39;49mfilter_executed)\n\u001b[0;32m    139\u001b[0m \u001b[39melif\u001b[39;00m vis\u001b[39m.\u001b[39mmark \u001b[39m==\u001b[39m \u001b[39m\"\u001b[39m\u001b[39mhistogram\u001b[39m\u001b[39m\"\u001b[39m:\n\u001b[0;32m    140\u001b[0m     PandasExecutor\u001b[39m.\u001b[39mexecute_binning(ldf, vis)\n",
      "File \u001b[1;32mc:\\Users\\lgarzia\\Documents\\GitHub\\explainability\\venv\\lib\\site-packages\\lux\\executor\\PandasExecutor.py:237\u001b[0m, in \u001b[0;36mPandasExecutor.execute_aggregate\u001b[1;34m(vis, isFiltered)\u001b[0m\n\u001b[0;32m    235\u001b[0m \u001b[39mif\u001b[39;00m has_color:\n\u001b[0;32m    236\u001b[0m     df \u001b[39m=\u001b[39m pd\u001b[39m.\u001b[39mDataFrame({columns[\u001b[39m0\u001b[39m]: attr_unique_vals \u001b[39m*\u001b[39m color_cardinality,columns[\u001b[39m1\u001b[39m]: pd\u001b[39m.\u001b[39mSeries(color_attr_vals)\u001b[39m.\u001b[39mrepeat(N_unique_vals),})\n\u001b[1;32m--> 237\u001b[0m     vis\u001b[39m.\u001b[39m_vis_data \u001b[39m=\u001b[39m vis\u001b[39m.\u001b[39;49mdata\u001b[39m.\u001b[39;49mmerge(df,on\u001b[39m=\u001b[39;49m[columns[\u001b[39m0\u001b[39;49m], columns[\u001b[39m1\u001b[39;49m]],how\u001b[39m=\u001b[39;49m\u001b[39m\"\u001b[39;49m\u001b[39mright\u001b[39;49m\u001b[39m\"\u001b[39;49m,suffixes\u001b[39m=\u001b[39;49m[\u001b[39m\"\u001b[39;49m\u001b[39m\"\u001b[39;49m, \u001b[39m\"\u001b[39;49m\u001b[39m_right\u001b[39;49m\u001b[39m\"\u001b[39;49m],)\n\u001b[0;32m    238\u001b[0m     \u001b[39mfor\u001b[39;00m col \u001b[39min\u001b[39;00m columns[\u001b[39m2\u001b[39m:]:\n\u001b[0;32m    239\u001b[0m         \u001b[39m# Triggers __setitem__\u001b[39;00m\n\u001b[0;32m    240\u001b[0m         vis\u001b[39m.\u001b[39mdata[col] \u001b[39m=\u001b[39m vis\u001b[39m.\u001b[39mdata[col]\u001b[39m.\u001b[39mfillna(\u001b[39m0\u001b[39m)\n",
      "File \u001b[1;32mc:\\Users\\lgarzia\\Documents\\GitHub\\explainability\\venv\\lib\\site-packages\\pandas\\core\\frame.py:10093\u001b[0m, in \u001b[0;36mDataFrame.merge\u001b[1;34m(self, right, how, on, left_on, right_on, left_index, right_index, sort, suffixes, copy, indicator, validate)\u001b[0m\n\u001b[0;32m  10074\u001b[0m \u001b[39m@Substitution\u001b[39m(\u001b[39m\"\u001b[39m\u001b[39m\"\u001b[39m)\n\u001b[0;32m  10075\u001b[0m \u001b[39m@Appender\u001b[39m(_merge_doc, indents\u001b[39m=\u001b[39m\u001b[39m2\u001b[39m)\n\u001b[0;32m  10076\u001b[0m \u001b[39mdef\u001b[39;00m \u001b[39mmerge\u001b[39m(\n\u001b[1;32m   (...)\u001b[0m\n\u001b[0;32m  10089\u001b[0m     validate: \u001b[39mstr\u001b[39m \u001b[39m|\u001b[39m \u001b[39mNone\u001b[39;00m \u001b[39m=\u001b[39m \u001b[39mNone\u001b[39;00m,\n\u001b[0;32m  10090\u001b[0m ) \u001b[39m-\u001b[39m\u001b[39m>\u001b[39m DataFrame:\n\u001b[0;32m  10091\u001b[0m     \u001b[39mfrom\u001b[39;00m \u001b[39mpandas\u001b[39;00m\u001b[39m.\u001b[39;00m\u001b[39mcore\u001b[39;00m\u001b[39m.\u001b[39;00m\u001b[39mreshape\u001b[39;00m\u001b[39m.\u001b[39;00m\u001b[39mmerge\u001b[39;00m \u001b[39mimport\u001b[39;00m merge\n\u001b[1;32m> 10093\u001b[0m     \u001b[39mreturn\u001b[39;00m merge(\n\u001b[0;32m  10094\u001b[0m         \u001b[39mself\u001b[39;49m,\n\u001b[0;32m  10095\u001b[0m         right,\n\u001b[0;32m  10096\u001b[0m         how\u001b[39m=\u001b[39;49mhow,\n\u001b[0;32m  10097\u001b[0m         on\u001b[39m=\u001b[39;49mon,\n\u001b[0;32m  10098\u001b[0m         left_on\u001b[39m=\u001b[39;49mleft_on,\n\u001b[0;32m  10099\u001b[0m         right_on\u001b[39m=\u001b[39;49mright_on,\n\u001b[0;32m  10100\u001b[0m         left_index\u001b[39m=\u001b[39;49mleft_index,\n\u001b[0;32m  10101\u001b[0m         right_index\u001b[39m=\u001b[39;49mright_index,\n\u001b[0;32m  10102\u001b[0m         sort\u001b[39m=\u001b[39;49msort,\n\u001b[0;32m  10103\u001b[0m         suffixes\u001b[39m=\u001b[39;49msuffixes,\n\u001b[0;32m  10104\u001b[0m         copy\u001b[39m=\u001b[39;49mcopy,\n\u001b[0;32m  10105\u001b[0m         indicator\u001b[39m=\u001b[39;49mindicator,\n\u001b[0;32m  10106\u001b[0m         validate\u001b[39m=\u001b[39;49mvalidate,\n\u001b[0;32m  10107\u001b[0m     )\n",
      "File \u001b[1;32mc:\\Users\\lgarzia\\Documents\\GitHub\\explainability\\venv\\lib\\site-packages\\pandas\\core\\reshape\\merge.py:124\u001b[0m, in \u001b[0;36mmerge\u001b[1;34m(left, right, how, on, left_on, right_on, left_index, right_index, sort, suffixes, copy, indicator, validate)\u001b[0m\n\u001b[0;32m     93\u001b[0m \u001b[39m@Substitution\u001b[39m(\u001b[39m\"\u001b[39m\u001b[39m\\n\u001b[39;00m\u001b[39mleft : DataFrame or named Series\u001b[39m\u001b[39m\"\u001b[39m)\n\u001b[0;32m     94\u001b[0m \u001b[39m@Appender\u001b[39m(_merge_doc, indents\u001b[39m=\u001b[39m\u001b[39m0\u001b[39m)\n\u001b[0;32m     95\u001b[0m \u001b[39mdef\u001b[39;00m \u001b[39mmerge\u001b[39m(\n\u001b[1;32m   (...)\u001b[0m\n\u001b[0;32m    108\u001b[0m     validate: \u001b[39mstr\u001b[39m \u001b[39m|\u001b[39m \u001b[39mNone\u001b[39;00m \u001b[39m=\u001b[39m \u001b[39mNone\u001b[39;00m,\n\u001b[0;32m    109\u001b[0m ) \u001b[39m-\u001b[39m\u001b[39m>\u001b[39m DataFrame:\n\u001b[0;32m    110\u001b[0m     op \u001b[39m=\u001b[39m _MergeOperation(\n\u001b[0;32m    111\u001b[0m         left,\n\u001b[0;32m    112\u001b[0m         right,\n\u001b[1;32m   (...)\u001b[0m\n\u001b[0;32m    122\u001b[0m         validate\u001b[39m=\u001b[39mvalidate,\n\u001b[0;32m    123\u001b[0m     )\n\u001b[1;32m--> 124\u001b[0m     \u001b[39mreturn\u001b[39;00m op\u001b[39m.\u001b[39;49mget_result(copy\u001b[39m=\u001b[39;49mcopy)\n",
      "File \u001b[1;32mc:\\Users\\lgarzia\\Documents\\GitHub\\explainability\\venv\\lib\\site-packages\\pandas\\core\\reshape\\merge.py:783\u001b[0m, in \u001b[0;36m_MergeOperation.get_result\u001b[1;34m(self, copy)\u001b[0m\n\u001b[0;32m    780\u001b[0m \u001b[39mif\u001b[39;00m \u001b[39mself\u001b[39m\u001b[39m.\u001b[39mindicator:\n\u001b[0;32m    781\u001b[0m     result \u001b[39m=\u001b[39m \u001b[39mself\u001b[39m\u001b[39m.\u001b[39m_indicator_post_merge(result)\n\u001b[1;32m--> 783\u001b[0m \u001b[39mself\u001b[39;49m\u001b[39m.\u001b[39;49m_maybe_add_join_keys(result, left_indexer, right_indexer)\n\u001b[0;32m    785\u001b[0m \u001b[39mself\u001b[39m\u001b[39m.\u001b[39m_maybe_restore_index_levels(result)\n\u001b[0;32m    787\u001b[0m \u001b[39mself\u001b[39m\u001b[39m.\u001b[39m_maybe_drop_cross_column(result, \u001b[39mself\u001b[39m\u001b[39m.\u001b[39m_cross)\n",
      "File \u001b[1;32mc:\\Users\\lgarzia\\Documents\\GitHub\\explainability\\venv\\lib\\site-packages\\pandas\\core\\reshape\\merge.py:979\u001b[0m, in \u001b[0;36m_MergeOperation._maybe_add_join_keys\u001b[1;34m(self, result, left_indexer, right_indexer)\u001b[0m\n\u001b[0;32m    976\u001b[0m     result_dtype \u001b[39m=\u001b[39m find_common_type([lvals\u001b[39m.\u001b[39mdtype, rvals\u001b[39m.\u001b[39mdtype])\n\u001b[0;32m    978\u001b[0m \u001b[39mif\u001b[39;00m result\u001b[39m.\u001b[39m_is_label_reference(name):\n\u001b[1;32m--> 979\u001b[0m     result[name] \u001b[39m=\u001b[39m Series(\n\u001b[0;32m    980\u001b[0m         key_col, dtype\u001b[39m=\u001b[39mresult_dtype, index\u001b[39m=\u001b[39mresult\u001b[39m.\u001b[39mindex\n\u001b[0;32m    981\u001b[0m     )\n\u001b[0;32m    982\u001b[0m \u001b[39melif\u001b[39;00m result\u001b[39m.\u001b[39m_is_level_reference(name):\n\u001b[0;32m    983\u001b[0m     \u001b[39mif\u001b[39;00m \u001b[39misinstance\u001b[39m(result\u001b[39m.\u001b[39mindex, MultiIndex):\n",
      "File \u001b[1;32mc:\\Users\\lgarzia\\Documents\\GitHub\\explainability\\venv\\lib\\site-packages\\pandas\\core\\frame.py:3980\u001b[0m, in \u001b[0;36mDataFrame.__setitem__\u001b[1;34m(self, key, value)\u001b[0m\n\u001b[0;32m   3977\u001b[0m     \u001b[39mself\u001b[39m\u001b[39m.\u001b[39m_setitem_array([key], value)\n\u001b[0;32m   3978\u001b[0m \u001b[39melse\u001b[39;00m:\n\u001b[0;32m   3979\u001b[0m     \u001b[39m# set column\u001b[39;00m\n\u001b[1;32m-> 3980\u001b[0m     \u001b[39mself\u001b[39;49m\u001b[39m.\u001b[39;49m_set_item(key, value)\n",
      "File \u001b[1;32mc:\\Users\\lgarzia\\Documents\\GitHub\\explainability\\venv\\lib\\site-packages\\lux\\core\\frame.py:193\u001b[0m, in \u001b[0;36mLuxDataFrame._set_item\u001b[1;34m(self, key, value)\u001b[0m\n\u001b[0;32m    192\u001b[0m \u001b[39mdef\u001b[39;00m \u001b[39m_set_item\u001b[39m(\u001b[39mself\u001b[39m, key, value):\n\u001b[1;32m--> 193\u001b[0m     \u001b[39msuper\u001b[39;49m(LuxDataFrame, \u001b[39mself\u001b[39;49m)\u001b[39m.\u001b[39;49m_set_item(key, value)\n\u001b[0;32m    194\u001b[0m     \u001b[39mself\u001b[39m\u001b[39m.\u001b[39mexpire_metadata()\n\u001b[0;32m    195\u001b[0m     \u001b[39mself\u001b[39m\u001b[39m.\u001b[39mexpire_recs()\n",
      "File \u001b[1;32mc:\\Users\\lgarzia\\Documents\\GitHub\\explainability\\venv\\lib\\site-packages\\pandas\\core\\frame.py:4174\u001b[0m, in \u001b[0;36mDataFrame._set_item\u001b[1;34m(self, key, value)\u001b[0m\n\u001b[0;32m   4164\u001b[0m \u001b[39mdef\u001b[39;00m \u001b[39m_set_item\u001b[39m(\u001b[39mself\u001b[39m, key, value) \u001b[39m-\u001b[39m\u001b[39m>\u001b[39m \u001b[39mNone\u001b[39;00m:\n\u001b[0;32m   4165\u001b[0m \u001b[39m    \u001b[39m\u001b[39m\"\"\"\u001b[39;00m\n\u001b[0;32m   4166\u001b[0m \u001b[39m    Add series to DataFrame in specified column.\u001b[39;00m\n\u001b[0;32m   4167\u001b[0m \n\u001b[1;32m   (...)\u001b[0m\n\u001b[0;32m   4172\u001b[0m \u001b[39m    ensure homogeneity.\u001b[39;00m\n\u001b[0;32m   4173\u001b[0m \u001b[39m    \"\"\"\u001b[39;00m\n\u001b[1;32m-> 4174\u001b[0m     value \u001b[39m=\u001b[39m \u001b[39mself\u001b[39;49m\u001b[39m.\u001b[39;49m_sanitize_column(value)\n\u001b[0;32m   4176\u001b[0m     \u001b[39mif\u001b[39;00m (\n\u001b[0;32m   4177\u001b[0m         key \u001b[39min\u001b[39;00m \u001b[39mself\u001b[39m\u001b[39m.\u001b[39mcolumns\n\u001b[0;32m   4178\u001b[0m         \u001b[39mand\u001b[39;00m value\u001b[39m.\u001b[39mndim \u001b[39m==\u001b[39m \u001b[39m1\u001b[39m\n\u001b[0;32m   4179\u001b[0m         \u001b[39mand\u001b[39;00m \u001b[39mnot\u001b[39;00m is_extension_array_dtype(value)\n\u001b[0;32m   4180\u001b[0m     ):\n\u001b[0;32m   4181\u001b[0m         \u001b[39m# broadcast across multiple columns if necessary\u001b[39;00m\n\u001b[0;32m   4182\u001b[0m         \u001b[39mif\u001b[39;00m \u001b[39mnot\u001b[39;00m \u001b[39mself\u001b[39m\u001b[39m.\u001b[39mcolumns\u001b[39m.\u001b[39mis_unique \u001b[39mor\u001b[39;00m \u001b[39misinstance\u001b[39m(\u001b[39mself\u001b[39m\u001b[39m.\u001b[39mcolumns, MultiIndex):\n",
      "File \u001b[1;32mc:\\Users\\lgarzia\\Documents\\GitHub\\explainability\\venv\\lib\\site-packages\\pandas\\core\\frame.py:4912\u001b[0m, in \u001b[0;36mDataFrame._sanitize_column\u001b[1;34m(self, value)\u001b[0m\n\u001b[0;32m   4910\u001b[0m     \u001b[39mreturn\u001b[39;00m _reindex_for_setitem(value, \u001b[39mself\u001b[39m\u001b[39m.\u001b[39mindex)\n\u001b[0;32m   4911\u001b[0m \u001b[39melif\u001b[39;00m is_dict_like(value):\n\u001b[1;32m-> 4912\u001b[0m     \u001b[39mreturn\u001b[39;00m _reindex_for_setitem(Series(value), \u001b[39mself\u001b[39m\u001b[39m.\u001b[39mindex)\n\u001b[0;32m   4914\u001b[0m \u001b[39mif\u001b[39;00m is_list_like(value):\n\u001b[0;32m   4915\u001b[0m     com\u001b[39m.\u001b[39mrequire_length_match(value, \u001b[39mself\u001b[39m\u001b[39m.\u001b[39mindex)\n",
      "File \u001b[1;32mc:\\Users\\lgarzia\\Documents\\GitHub\\explainability\\venv\\lib\\site-packages\\pandas\\core\\series.py:436\u001b[0m, in \u001b[0;36mSeries.__init__\u001b[1;34m(self, data, index, dtype, name, copy, fastpath)\u001b[0m\n\u001b[0;32m    434\u001b[0m     data \u001b[39m=\u001b[39m data\u001b[39m.\u001b[39m_mgr\n\u001b[0;32m    435\u001b[0m \u001b[39melif\u001b[39;00m is_dict_like(data):\n\u001b[1;32m--> 436\u001b[0m     data, index \u001b[39m=\u001b[39m \u001b[39mself\u001b[39;49m\u001b[39m.\u001b[39;49m_init_dict(data, index, dtype)\n\u001b[0;32m    437\u001b[0m     dtype \u001b[39m=\u001b[39m \u001b[39mNone\u001b[39;00m\n\u001b[0;32m    438\u001b[0m     copy \u001b[39m=\u001b[39m \u001b[39mFalse\u001b[39;00m\n",
      "File \u001b[1;32mc:\\Users\\lgarzia\\Documents\\GitHub\\explainability\\venv\\lib\\site-packages\\pandas\\core\\series.py:511\u001b[0m, in \u001b[0;36mSeries._init_dict\u001b[1;34m(self, data, index, dtype)\u001b[0m\n\u001b[0;32m    507\u001b[0m keys: Index \u001b[39m|\u001b[39m \u001b[39mtuple\u001b[39m\n\u001b[0;32m    509\u001b[0m \u001b[39m# Looking for NaN in dict doesn't work ({np.nan : 1}[float('nan')]\u001b[39;00m\n\u001b[0;32m    510\u001b[0m \u001b[39m# raises KeyError), so we iterate the entire dict, and align\u001b[39;00m\n\u001b[1;32m--> 511\u001b[0m \u001b[39mif\u001b[39;00m data:\n\u001b[0;32m    512\u001b[0m     \u001b[39m# GH:34717, issue was using zip to extract key and values from data.\u001b[39;00m\n\u001b[0;32m    513\u001b[0m     \u001b[39m# using generators in effects the performance.\u001b[39;00m\n\u001b[0;32m    514\u001b[0m     \u001b[39m# Below is the new way of extracting the keys and values\u001b[39;00m\n\u001b[0;32m    516\u001b[0m     keys \u001b[39m=\u001b[39m \u001b[39mtuple\u001b[39m(data\u001b[39m.\u001b[39mkeys())\n\u001b[0;32m    517\u001b[0m     values \u001b[39m=\u001b[39m \u001b[39mlist\u001b[39m(data\u001b[39m.\u001b[39mvalues())  \u001b[39m# Generating list of values- faster way\u001b[39;00m\n",
      "File \u001b[1;32mc:\\Users\\lgarzia\\Documents\\GitHub\\explainability\\venv\\lib\\site-packages\\pandas\\core\\generic.py:1527\u001b[0m, in \u001b[0;36mNDFrame.__nonzero__\u001b[1;34m(self)\u001b[0m\n\u001b[0;32m   1525\u001b[0m \u001b[39m@final\u001b[39m\n\u001b[0;32m   1526\u001b[0m \u001b[39mdef\u001b[39;00m \u001b[39m__nonzero__\u001b[39m(\u001b[39mself\u001b[39m) \u001b[39m-\u001b[39m\u001b[39m>\u001b[39m NoReturn:\n\u001b[1;32m-> 1527\u001b[0m     \u001b[39mraise\u001b[39;00m \u001b[39mValueError\u001b[39;00m(\n\u001b[0;32m   1528\u001b[0m         \u001b[39mf\u001b[39m\u001b[39m\"\u001b[39m\u001b[39mThe truth value of a \u001b[39m\u001b[39m{\u001b[39;00m\u001b[39mtype\u001b[39m(\u001b[39mself\u001b[39m)\u001b[39m.\u001b[39m\u001b[39m__name__\u001b[39m\u001b[39m}\u001b[39;00m\u001b[39m is ambiguous. \u001b[39m\u001b[39m\"\u001b[39m\n\u001b[0;32m   1529\u001b[0m         \u001b[39m\"\u001b[39m\u001b[39mUse a.empty, a.bool(), a.item(), a.any() or a.all().\u001b[39m\u001b[39m\"\u001b[39m\n\u001b[0;32m   1530\u001b[0m     )\n",
      "\u001b[1;31mValueError\u001b[0m: The truth value of a Series is ambiguous. Use a.empty, a.bool(), a.item(), a.any() or a.all()."
     ]
    }
   ],
   "source": [
    "from lux.vis.Vis import Vis\n",
    "Vis(['Date', 'Age'],df)"
   ]
  },
  {
   "cell_type": "code",
   "execution_count": 7,
   "metadata": {},
   "outputs": [
    {
     "ename": "ValueError",
     "evalue": "The truth value of a Series is ambiguous. Use a.empty, a.bool(), a.item(), a.any() or a.all().",
     "output_type": "error",
     "traceback": [
      "\u001b[1;31m---------------------------------------------------------------------------\u001b[0m",
      "\u001b[1;31mValueError\u001b[0m                                Traceback (most recent call last)",
      "Cell \u001b[1;32mIn[7], line 1\u001b[0m\n\u001b[1;32m----> 1\u001b[0m Vis([\u001b[39m'\u001b[39;49m\u001b[39mAge\u001b[39;49m\u001b[39m'\u001b[39;49m, \u001b[39m'\u001b[39;49m\u001b[39mTroop\u001b[39;49m\u001b[39m'\u001b[39;49m],df)\n",
      "File \u001b[1;32mc:\\Users\\lgarzia\\Documents\\GitHub\\explainability\\venv\\lib\\site-packages\\lux\\vis\\Vis.py:40\u001b[0m, in \u001b[0;36mVis.__init__\u001b[1;34m(self, intent, source, title, score)\u001b[0m\n\u001b[0;32m     38\u001b[0m \u001b[39mself\u001b[39m\u001b[39m.\u001b[39m_all_column \u001b[39m=\u001b[39m \u001b[39mFalse\u001b[39;00m\n\u001b[0;32m     39\u001b[0m \u001b[39mself\u001b[39m\u001b[39m.\u001b[39mapprox \u001b[39m=\u001b[39m \u001b[39mFalse\u001b[39;00m\n\u001b[1;32m---> 40\u001b[0m \u001b[39mself\u001b[39;49m\u001b[39m.\u001b[39;49mrefresh_source(\u001b[39mself\u001b[39;49m\u001b[39m.\u001b[39;49m_source)\n",
      "File \u001b[1;32mc:\\Users\\lgarzia\\Documents\\GitHub\\explainability\\venv\\lib\\site-packages\\lux\\vis\\Vis.py:398\u001b[0m, in \u001b[0;36mVis.refresh_source\u001b[1;34m(self, ldf)\u001b[0m\n\u001b[0;32m    395\u001b[0m Validator\u001b[39m.\u001b[39mvalidate_intent(\u001b[39mself\u001b[39m\u001b[39m.\u001b[39m_inferred_intent, ldf)\n\u001b[0;32m    397\u001b[0m Compiler\u001b[39m.\u001b[39mcompile_vis(ldf, \u001b[39mself\u001b[39m)\n\u001b[1;32m--> 398\u001b[0m lux\u001b[39m.\u001b[39;49mconfig\u001b[39m.\u001b[39;49mexecutor\u001b[39m.\u001b[39;49mexecute([\u001b[39mself\u001b[39;49m], ldf)\n",
      "File \u001b[1;32mc:\\Users\\lgarzia\\Documents\\GitHub\\explainability\\venv\\lib\\site-packages\\lux\\executor\\PandasExecutor.py:138\u001b[0m, in \u001b[0;36mPandasExecutor.execute\u001b[1;34m(vislist, ldf, approx)\u001b[0m\n\u001b[0;32m    135\u001b[0m vis\u001b[39m.\u001b[39m_vis_data \u001b[39m=\u001b[39m vis\u001b[39m.\u001b[39m_vis_data[\u001b[39mlist\u001b[39m(attributes)]\n\u001b[0;32m    137\u001b[0m \u001b[39mif\u001b[39;00m vis\u001b[39m.\u001b[39mmark \u001b[39m==\u001b[39m \u001b[39m\"\u001b[39m\u001b[39mbar\u001b[39m\u001b[39m\"\u001b[39m \u001b[39mor\u001b[39;00m vis\u001b[39m.\u001b[39mmark \u001b[39m==\u001b[39m \u001b[39m\"\u001b[39m\u001b[39mline\u001b[39m\u001b[39m\"\u001b[39m \u001b[39mor\u001b[39;00m vis\u001b[39m.\u001b[39mmark \u001b[39m==\u001b[39m \u001b[39m\"\u001b[39m\u001b[39mgeographical\u001b[39m\u001b[39m\"\u001b[39m:\n\u001b[1;32m--> 138\u001b[0m     PandasExecutor\u001b[39m.\u001b[39;49mexecute_aggregate(vis, isFiltered\u001b[39m=\u001b[39;49mfilter_executed)\n\u001b[0;32m    139\u001b[0m \u001b[39melif\u001b[39;00m vis\u001b[39m.\u001b[39mmark \u001b[39m==\u001b[39m \u001b[39m\"\u001b[39m\u001b[39mhistogram\u001b[39m\u001b[39m\"\u001b[39m:\n\u001b[0;32m    140\u001b[0m     PandasExecutor\u001b[39m.\u001b[39mexecute_binning(ldf, vis)\n",
      "File \u001b[1;32mc:\\Users\\lgarzia\\Documents\\GitHub\\explainability\\venv\\lib\\site-packages\\lux\\executor\\PandasExecutor.py:237\u001b[0m, in \u001b[0;36mPandasExecutor.execute_aggregate\u001b[1;34m(vis, isFiltered)\u001b[0m\n\u001b[0;32m    235\u001b[0m \u001b[39mif\u001b[39;00m has_color:\n\u001b[0;32m    236\u001b[0m     df \u001b[39m=\u001b[39m pd\u001b[39m.\u001b[39mDataFrame({columns[\u001b[39m0\u001b[39m]: attr_unique_vals \u001b[39m*\u001b[39m color_cardinality,columns[\u001b[39m1\u001b[39m]: pd\u001b[39m.\u001b[39mSeries(color_attr_vals)\u001b[39m.\u001b[39mrepeat(N_unique_vals),})\n\u001b[1;32m--> 237\u001b[0m     vis\u001b[39m.\u001b[39m_vis_data \u001b[39m=\u001b[39m vis\u001b[39m.\u001b[39;49mdata\u001b[39m.\u001b[39;49mmerge(df,on\u001b[39m=\u001b[39;49m[columns[\u001b[39m0\u001b[39;49m], columns[\u001b[39m1\u001b[39;49m]],how\u001b[39m=\u001b[39;49m\u001b[39m\"\u001b[39;49m\u001b[39mright\u001b[39;49m\u001b[39m\"\u001b[39;49m,suffixes\u001b[39m=\u001b[39;49m[\u001b[39m\"\u001b[39;49m\u001b[39m\"\u001b[39;49m, \u001b[39m\"\u001b[39;49m\u001b[39m_right\u001b[39;49m\u001b[39m\"\u001b[39;49m],)\n\u001b[0;32m    238\u001b[0m     \u001b[39mfor\u001b[39;00m col \u001b[39min\u001b[39;00m columns[\u001b[39m2\u001b[39m:]:\n\u001b[0;32m    239\u001b[0m         \u001b[39m# Triggers __setitem__\u001b[39;00m\n\u001b[0;32m    240\u001b[0m         vis\u001b[39m.\u001b[39mdata[col] \u001b[39m=\u001b[39m vis\u001b[39m.\u001b[39mdata[col]\u001b[39m.\u001b[39mfillna(\u001b[39m0\u001b[39m)\n",
      "File \u001b[1;32mc:\\Users\\lgarzia\\Documents\\GitHub\\explainability\\venv\\lib\\site-packages\\pandas\\core\\frame.py:10093\u001b[0m, in \u001b[0;36mDataFrame.merge\u001b[1;34m(self, right, how, on, left_on, right_on, left_index, right_index, sort, suffixes, copy, indicator, validate)\u001b[0m\n\u001b[0;32m  10074\u001b[0m \u001b[39m@Substitution\u001b[39m(\u001b[39m\"\u001b[39m\u001b[39m\"\u001b[39m)\n\u001b[0;32m  10075\u001b[0m \u001b[39m@Appender\u001b[39m(_merge_doc, indents\u001b[39m=\u001b[39m\u001b[39m2\u001b[39m)\n\u001b[0;32m  10076\u001b[0m \u001b[39mdef\u001b[39;00m \u001b[39mmerge\u001b[39m(\n\u001b[1;32m   (...)\u001b[0m\n\u001b[0;32m  10089\u001b[0m     validate: \u001b[39mstr\u001b[39m \u001b[39m|\u001b[39m \u001b[39mNone\u001b[39;00m \u001b[39m=\u001b[39m \u001b[39mNone\u001b[39;00m,\n\u001b[0;32m  10090\u001b[0m ) \u001b[39m-\u001b[39m\u001b[39m>\u001b[39m DataFrame:\n\u001b[0;32m  10091\u001b[0m     \u001b[39mfrom\u001b[39;00m \u001b[39mpandas\u001b[39;00m\u001b[39m.\u001b[39;00m\u001b[39mcore\u001b[39;00m\u001b[39m.\u001b[39;00m\u001b[39mreshape\u001b[39;00m\u001b[39m.\u001b[39;00m\u001b[39mmerge\u001b[39;00m \u001b[39mimport\u001b[39;00m merge\n\u001b[1;32m> 10093\u001b[0m     \u001b[39mreturn\u001b[39;00m merge(\n\u001b[0;32m  10094\u001b[0m         \u001b[39mself\u001b[39;49m,\n\u001b[0;32m  10095\u001b[0m         right,\n\u001b[0;32m  10096\u001b[0m         how\u001b[39m=\u001b[39;49mhow,\n\u001b[0;32m  10097\u001b[0m         on\u001b[39m=\u001b[39;49mon,\n\u001b[0;32m  10098\u001b[0m         left_on\u001b[39m=\u001b[39;49mleft_on,\n\u001b[0;32m  10099\u001b[0m         right_on\u001b[39m=\u001b[39;49mright_on,\n\u001b[0;32m  10100\u001b[0m         left_index\u001b[39m=\u001b[39;49mleft_index,\n\u001b[0;32m  10101\u001b[0m         right_index\u001b[39m=\u001b[39;49mright_index,\n\u001b[0;32m  10102\u001b[0m         sort\u001b[39m=\u001b[39;49msort,\n\u001b[0;32m  10103\u001b[0m         suffixes\u001b[39m=\u001b[39;49msuffixes,\n\u001b[0;32m  10104\u001b[0m         copy\u001b[39m=\u001b[39;49mcopy,\n\u001b[0;32m  10105\u001b[0m         indicator\u001b[39m=\u001b[39;49mindicator,\n\u001b[0;32m  10106\u001b[0m         validate\u001b[39m=\u001b[39;49mvalidate,\n\u001b[0;32m  10107\u001b[0m     )\n",
      "File \u001b[1;32mc:\\Users\\lgarzia\\Documents\\GitHub\\explainability\\venv\\lib\\site-packages\\pandas\\core\\reshape\\merge.py:124\u001b[0m, in \u001b[0;36mmerge\u001b[1;34m(left, right, how, on, left_on, right_on, left_index, right_index, sort, suffixes, copy, indicator, validate)\u001b[0m\n\u001b[0;32m     93\u001b[0m \u001b[39m@Substitution\u001b[39m(\u001b[39m\"\u001b[39m\u001b[39m\\n\u001b[39;00m\u001b[39mleft : DataFrame or named Series\u001b[39m\u001b[39m\"\u001b[39m)\n\u001b[0;32m     94\u001b[0m \u001b[39m@Appender\u001b[39m(_merge_doc, indents\u001b[39m=\u001b[39m\u001b[39m0\u001b[39m)\n\u001b[0;32m     95\u001b[0m \u001b[39mdef\u001b[39;00m \u001b[39mmerge\u001b[39m(\n\u001b[1;32m   (...)\u001b[0m\n\u001b[0;32m    108\u001b[0m     validate: \u001b[39mstr\u001b[39m \u001b[39m|\u001b[39m \u001b[39mNone\u001b[39;00m \u001b[39m=\u001b[39m \u001b[39mNone\u001b[39;00m,\n\u001b[0;32m    109\u001b[0m ) \u001b[39m-\u001b[39m\u001b[39m>\u001b[39m DataFrame:\n\u001b[0;32m    110\u001b[0m     op \u001b[39m=\u001b[39m _MergeOperation(\n\u001b[0;32m    111\u001b[0m         left,\n\u001b[0;32m    112\u001b[0m         right,\n\u001b[1;32m   (...)\u001b[0m\n\u001b[0;32m    122\u001b[0m         validate\u001b[39m=\u001b[39mvalidate,\n\u001b[0;32m    123\u001b[0m     )\n\u001b[1;32m--> 124\u001b[0m     \u001b[39mreturn\u001b[39;00m op\u001b[39m.\u001b[39;49mget_result(copy\u001b[39m=\u001b[39;49mcopy)\n",
      "File \u001b[1;32mc:\\Users\\lgarzia\\Documents\\GitHub\\explainability\\venv\\lib\\site-packages\\pandas\\core\\reshape\\merge.py:783\u001b[0m, in \u001b[0;36m_MergeOperation.get_result\u001b[1;34m(self, copy)\u001b[0m\n\u001b[0;32m    780\u001b[0m \u001b[39mif\u001b[39;00m \u001b[39mself\u001b[39m\u001b[39m.\u001b[39mindicator:\n\u001b[0;32m    781\u001b[0m     result \u001b[39m=\u001b[39m \u001b[39mself\u001b[39m\u001b[39m.\u001b[39m_indicator_post_merge(result)\n\u001b[1;32m--> 783\u001b[0m \u001b[39mself\u001b[39;49m\u001b[39m.\u001b[39;49m_maybe_add_join_keys(result, left_indexer, right_indexer)\n\u001b[0;32m    785\u001b[0m \u001b[39mself\u001b[39m\u001b[39m.\u001b[39m_maybe_restore_index_levels(result)\n\u001b[0;32m    787\u001b[0m \u001b[39mself\u001b[39m\u001b[39m.\u001b[39m_maybe_drop_cross_column(result, \u001b[39mself\u001b[39m\u001b[39m.\u001b[39m_cross)\n",
      "File \u001b[1;32mc:\\Users\\lgarzia\\Documents\\GitHub\\explainability\\venv\\lib\\site-packages\\pandas\\core\\reshape\\merge.py:979\u001b[0m, in \u001b[0;36m_MergeOperation._maybe_add_join_keys\u001b[1;34m(self, result, left_indexer, right_indexer)\u001b[0m\n\u001b[0;32m    976\u001b[0m     result_dtype \u001b[39m=\u001b[39m find_common_type([lvals\u001b[39m.\u001b[39mdtype, rvals\u001b[39m.\u001b[39mdtype])\n\u001b[0;32m    978\u001b[0m \u001b[39mif\u001b[39;00m result\u001b[39m.\u001b[39m_is_label_reference(name):\n\u001b[1;32m--> 979\u001b[0m     result[name] \u001b[39m=\u001b[39m Series(\n\u001b[0;32m    980\u001b[0m         key_col, dtype\u001b[39m=\u001b[39mresult_dtype, index\u001b[39m=\u001b[39mresult\u001b[39m.\u001b[39mindex\n\u001b[0;32m    981\u001b[0m     )\n\u001b[0;32m    982\u001b[0m \u001b[39melif\u001b[39;00m result\u001b[39m.\u001b[39m_is_level_reference(name):\n\u001b[0;32m    983\u001b[0m     \u001b[39mif\u001b[39;00m \u001b[39misinstance\u001b[39m(result\u001b[39m.\u001b[39mindex, MultiIndex):\n",
      "File \u001b[1;32mc:\\Users\\lgarzia\\Documents\\GitHub\\explainability\\venv\\lib\\site-packages\\pandas\\core\\frame.py:3980\u001b[0m, in \u001b[0;36mDataFrame.__setitem__\u001b[1;34m(self, key, value)\u001b[0m\n\u001b[0;32m   3977\u001b[0m     \u001b[39mself\u001b[39m\u001b[39m.\u001b[39m_setitem_array([key], value)\n\u001b[0;32m   3978\u001b[0m \u001b[39melse\u001b[39;00m:\n\u001b[0;32m   3979\u001b[0m     \u001b[39m# set column\u001b[39;00m\n\u001b[1;32m-> 3980\u001b[0m     \u001b[39mself\u001b[39;49m\u001b[39m.\u001b[39;49m_set_item(key, value)\n",
      "File \u001b[1;32mc:\\Users\\lgarzia\\Documents\\GitHub\\explainability\\venv\\lib\\site-packages\\lux\\core\\frame.py:193\u001b[0m, in \u001b[0;36mLuxDataFrame._set_item\u001b[1;34m(self, key, value)\u001b[0m\n\u001b[0;32m    192\u001b[0m \u001b[39mdef\u001b[39;00m \u001b[39m_set_item\u001b[39m(\u001b[39mself\u001b[39m, key, value):\n\u001b[1;32m--> 193\u001b[0m     \u001b[39msuper\u001b[39;49m(LuxDataFrame, \u001b[39mself\u001b[39;49m)\u001b[39m.\u001b[39;49m_set_item(key, value)\n\u001b[0;32m    194\u001b[0m     \u001b[39mself\u001b[39m\u001b[39m.\u001b[39mexpire_metadata()\n\u001b[0;32m    195\u001b[0m     \u001b[39mself\u001b[39m\u001b[39m.\u001b[39mexpire_recs()\n",
      "File \u001b[1;32mc:\\Users\\lgarzia\\Documents\\GitHub\\explainability\\venv\\lib\\site-packages\\pandas\\core\\frame.py:4174\u001b[0m, in \u001b[0;36mDataFrame._set_item\u001b[1;34m(self, key, value)\u001b[0m\n\u001b[0;32m   4164\u001b[0m \u001b[39mdef\u001b[39;00m \u001b[39m_set_item\u001b[39m(\u001b[39mself\u001b[39m, key, value) \u001b[39m-\u001b[39m\u001b[39m>\u001b[39m \u001b[39mNone\u001b[39;00m:\n\u001b[0;32m   4165\u001b[0m \u001b[39m    \u001b[39m\u001b[39m\"\"\"\u001b[39;00m\n\u001b[0;32m   4166\u001b[0m \u001b[39m    Add series to DataFrame in specified column.\u001b[39;00m\n\u001b[0;32m   4167\u001b[0m \n\u001b[1;32m   (...)\u001b[0m\n\u001b[0;32m   4172\u001b[0m \u001b[39m    ensure homogeneity.\u001b[39;00m\n\u001b[0;32m   4173\u001b[0m \u001b[39m    \"\"\"\u001b[39;00m\n\u001b[1;32m-> 4174\u001b[0m     value \u001b[39m=\u001b[39m \u001b[39mself\u001b[39;49m\u001b[39m.\u001b[39;49m_sanitize_column(value)\n\u001b[0;32m   4176\u001b[0m     \u001b[39mif\u001b[39;00m (\n\u001b[0;32m   4177\u001b[0m         key \u001b[39min\u001b[39;00m \u001b[39mself\u001b[39m\u001b[39m.\u001b[39mcolumns\n\u001b[0;32m   4178\u001b[0m         \u001b[39mand\u001b[39;00m value\u001b[39m.\u001b[39mndim \u001b[39m==\u001b[39m \u001b[39m1\u001b[39m\n\u001b[0;32m   4179\u001b[0m         \u001b[39mand\u001b[39;00m \u001b[39mnot\u001b[39;00m is_extension_array_dtype(value)\n\u001b[0;32m   4180\u001b[0m     ):\n\u001b[0;32m   4181\u001b[0m         \u001b[39m# broadcast across multiple columns if necessary\u001b[39;00m\n\u001b[0;32m   4182\u001b[0m         \u001b[39mif\u001b[39;00m \u001b[39mnot\u001b[39;00m \u001b[39mself\u001b[39m\u001b[39m.\u001b[39mcolumns\u001b[39m.\u001b[39mis_unique \u001b[39mor\u001b[39;00m \u001b[39misinstance\u001b[39m(\u001b[39mself\u001b[39m\u001b[39m.\u001b[39mcolumns, MultiIndex):\n",
      "File \u001b[1;32mc:\\Users\\lgarzia\\Documents\\GitHub\\explainability\\venv\\lib\\site-packages\\pandas\\core\\frame.py:4912\u001b[0m, in \u001b[0;36mDataFrame._sanitize_column\u001b[1;34m(self, value)\u001b[0m\n\u001b[0;32m   4910\u001b[0m     \u001b[39mreturn\u001b[39;00m _reindex_for_setitem(value, \u001b[39mself\u001b[39m\u001b[39m.\u001b[39mindex)\n\u001b[0;32m   4911\u001b[0m \u001b[39melif\u001b[39;00m is_dict_like(value):\n\u001b[1;32m-> 4912\u001b[0m     \u001b[39mreturn\u001b[39;00m _reindex_for_setitem(Series(value), \u001b[39mself\u001b[39m\u001b[39m.\u001b[39mindex)\n\u001b[0;32m   4914\u001b[0m \u001b[39mif\u001b[39;00m is_list_like(value):\n\u001b[0;32m   4915\u001b[0m     com\u001b[39m.\u001b[39mrequire_length_match(value, \u001b[39mself\u001b[39m\u001b[39m.\u001b[39mindex)\n",
      "File \u001b[1;32mc:\\Users\\lgarzia\\Documents\\GitHub\\explainability\\venv\\lib\\site-packages\\pandas\\core\\series.py:436\u001b[0m, in \u001b[0;36mSeries.__init__\u001b[1;34m(self, data, index, dtype, name, copy, fastpath)\u001b[0m\n\u001b[0;32m    434\u001b[0m     data \u001b[39m=\u001b[39m data\u001b[39m.\u001b[39m_mgr\n\u001b[0;32m    435\u001b[0m \u001b[39melif\u001b[39;00m is_dict_like(data):\n\u001b[1;32m--> 436\u001b[0m     data, index \u001b[39m=\u001b[39m \u001b[39mself\u001b[39;49m\u001b[39m.\u001b[39;49m_init_dict(data, index, dtype)\n\u001b[0;32m    437\u001b[0m     dtype \u001b[39m=\u001b[39m \u001b[39mNone\u001b[39;00m\n\u001b[0;32m    438\u001b[0m     copy \u001b[39m=\u001b[39m \u001b[39mFalse\u001b[39;00m\n",
      "File \u001b[1;32mc:\\Users\\lgarzia\\Documents\\GitHub\\explainability\\venv\\lib\\site-packages\\pandas\\core\\series.py:511\u001b[0m, in \u001b[0;36mSeries._init_dict\u001b[1;34m(self, data, index, dtype)\u001b[0m\n\u001b[0;32m    507\u001b[0m keys: Index \u001b[39m|\u001b[39m \u001b[39mtuple\u001b[39m\n\u001b[0;32m    509\u001b[0m \u001b[39m# Looking for NaN in dict doesn't work ({np.nan : 1}[float('nan')]\u001b[39;00m\n\u001b[0;32m    510\u001b[0m \u001b[39m# raises KeyError), so we iterate the entire dict, and align\u001b[39;00m\n\u001b[1;32m--> 511\u001b[0m \u001b[39mif\u001b[39;00m data:\n\u001b[0;32m    512\u001b[0m     \u001b[39m# GH:34717, issue was using zip to extract key and values from data.\u001b[39;00m\n\u001b[0;32m    513\u001b[0m     \u001b[39m# using generators in effects the performance.\u001b[39;00m\n\u001b[0;32m    514\u001b[0m     \u001b[39m# Below is the new way of extracting the keys and values\u001b[39;00m\n\u001b[0;32m    516\u001b[0m     keys \u001b[39m=\u001b[39m \u001b[39mtuple\u001b[39m(data\u001b[39m.\u001b[39mkeys())\n\u001b[0;32m    517\u001b[0m     values \u001b[39m=\u001b[39m \u001b[39mlist\u001b[39m(data\u001b[39m.\u001b[39mvalues())  \u001b[39m# Generating list of values- faster way\u001b[39;00m\n",
      "File \u001b[1;32mc:\\Users\\lgarzia\\Documents\\GitHub\\explainability\\venv\\lib\\site-packages\\pandas\\core\\generic.py:1527\u001b[0m, in \u001b[0;36mNDFrame.__nonzero__\u001b[1;34m(self)\u001b[0m\n\u001b[0;32m   1525\u001b[0m \u001b[39m@final\u001b[39m\n\u001b[0;32m   1526\u001b[0m \u001b[39mdef\u001b[39;00m \u001b[39m__nonzero__\u001b[39m(\u001b[39mself\u001b[39m) \u001b[39m-\u001b[39m\u001b[39m>\u001b[39m NoReturn:\n\u001b[1;32m-> 1527\u001b[0m     \u001b[39mraise\u001b[39;00m \u001b[39mValueError\u001b[39;00m(\n\u001b[0;32m   1528\u001b[0m         \u001b[39mf\u001b[39m\u001b[39m\"\u001b[39m\u001b[39mThe truth value of a \u001b[39m\u001b[39m{\u001b[39;00m\u001b[39mtype\u001b[39m(\u001b[39mself\u001b[39m)\u001b[39m.\u001b[39m\u001b[39m__name__\u001b[39m\u001b[39m}\u001b[39;00m\u001b[39m is ambiguous. \u001b[39m\u001b[39m\"\u001b[39m\n\u001b[0;32m   1529\u001b[0m         \u001b[39m\"\u001b[39m\u001b[39mUse a.empty, a.bool(), a.item(), a.any() or a.all().\u001b[39m\u001b[39m\"\u001b[39m\n\u001b[0;32m   1530\u001b[0m     )\n",
      "\u001b[1;31mValueError\u001b[0m: The truth value of a Series is ambiguous. Use a.empty, a.bool(), a.item(), a.any() or a.all()."
     ]
    }
   ],
   "source": [
    "Vis(['Age', 'Troop'],df)"
   ]
  },
  {
   "cell_type": "code",
   "execution_count": null,
   "metadata": {},
   "outputs": [],
   "source": []
  }
 ],
 "metadata": {
  "kernelspec": {
   "display_name": "venv",
   "language": "python",
   "name": "python3"
  },
  "language_info": {
   "codemirror_mode": {
    "name": "ipython",
    "version": 3
   },
   "file_extension": ".py",
   "mimetype": "text/x-python",
   "name": "python",
   "nbconvert_exporter": "python",
   "pygments_lexer": "ipython3",
   "version": "3.10.9"
  },
  "orig_nbformat": 4,
  "vscode": {
   "interpreter": {
    "hash": "42dbac9a4c649d470d0cde79f5b558654f0f0b04e7c4aed4559e7bf230ccb35b"
   }
  }
 },
 "nbformat": 4,
 "nbformat_minor": 2
}
