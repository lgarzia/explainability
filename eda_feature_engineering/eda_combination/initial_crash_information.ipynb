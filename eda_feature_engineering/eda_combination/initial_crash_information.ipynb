{
 "cells": [
  {
   "cell_type": "code",
   "execution_count": 1,
   "metadata": {},
   "outputs": [],
   "source": [
    "import dataprep.connector as dbc\n",
    "import urllib\n",
    "table_name = \"crash_information\"\n",
    "mshp_db_path = r\"C:\\Users\\lgarzia\\Documents\\GitHub\\explainability\\local_data\\data\\mshp.sqlite\" \n",
    "mshp_db_path = urllib.parse.quote(mshp_db_path)\n",
    "mshp_db_conn = \"sqlite://\"+mshp_db_path\n",
    "df = dbc.read_sql(mshp_db_conn, f\"SELECT * FROM {table_name}\")"
   ]
  },
  {
   "cell_type": "code",
   "execution_count": 2,
   "metadata": {},
   "outputs": [
    {
     "name": "stderr",
     "output_type": "stream",
     "text": [
      "Pandas backend loaded 1.5.3\n",
      "Numpy backend loaded 1.23.5\n",
      "Pyspark backend NOT loaded\n",
      "Python backend loaded\n"
     ]
    }
   ],
   "source": [
    "# Step 1 ---> Blast Auto EDA using profiler\n",
    "# Get information rich fields\n",
    "# Get grain of table\n",
    "from ydata_profiling import ProfileReport"
   ]
  },
  {
   "cell_type": "code",
   "execution_count": 3,
   "metadata": {},
   "outputs": [],
   "source": [
    "profile = ProfileReport(df, title=f\"Profiling Report for {table_name}\")"
   ]
  },
  {
   "cell_type": "code",
   "execution_count": 8,
   "metadata": {},
   "outputs": [
    {
     "name": "stdout",
     "output_type": "stream",
     "text": [
      "compare\n",
      "config\n",
      "description_set\n",
      "df\n",
      "df_hash\n",
      "dump\n",
      "dumps\n",
      "get_description\n",
      "get_duplicates\n",
      "get_rejected_variables\n",
      "get_sample\n",
      "html\n",
      "invalidate_cache\n",
      "json\n",
      "load\n",
      "loads\n",
      "report\n",
      "summarizer\n",
      "to_expectation_suite\n",
      "to_file\n",
      "to_html\n",
      "to_json\n",
      "to_notebook_iframe\n",
      "to_widgets\n",
      "typeset\n",
      "widgets\n"
     ]
    }
   ],
   "source": [
    "_ = [print(p) for p in dir(profile) if not p.startswith('_')]"
   ]
  },
  {
   "cell_type": "code",
   "execution_count": 10,
   "metadata": {},
   "outputs": [],
   "source": [
    "description = profile.get_description()"
   ]
  },
  {
   "cell_type": "code",
   "execution_count": 11,
   "metadata": {},
   "outputs": [
    {
     "data": {
      "text/plain": [
       "dict_keys(['analysis', 'table', 'variables', 'scatter', 'correlations', 'missing', 'alerts', 'package', 'sample', 'duplicates'])"
      ]
     },
     "execution_count": 11,
     "metadata": {},
     "output_type": "execute_result"
    }
   ],
   "source": [
    "description.keys()"
   ]
  },
  {
   "cell_type": "code",
   "execution_count": 13,
   "metadata": {},
   "outputs": [
    {
     "data": {
      "text/plain": [
       "dict_keys(['df_index', 'Investigated By', 'Incident#', 'GPS Latitude', 'GPS Longitude', 'Date', 'Time', 'County', 'Location', 'Troop', 'acc_uuid'])"
      ]
     },
     "execution_count": 13,
     "metadata": {},
     "output_type": "execute_result"
    }
   ],
   "source": [
    "description['variables'].keys()"
   ]
  },
  {
   "cell_type": "code",
   "execution_count": 15,
   "metadata": {},
   "outputs": [
    {
     "data": {
      "text/plain": [
       "dict_keys(['n_distinct', 'p_distinct', 'is_unique', 'n_unique', 'p_unique', 'type', 'hashable', 'value_counts_without_nan', 'value_counts_index_sorted', 'ordering', 'n_missing', 'n', 'p_missing', 'count', 'memory_size', 'imbalance', 'first_rows', 'chi_squared', 'max_length', 'mean_length', 'median_length', 'min_length', 'length_histogram', 'histogram_length', 'n_characters_distinct', 'n_characters', 'character_counts', 'category_alias_values', 'block_alias_values', 'block_alias_counts', 'n_block_alias', 'block_alias_char_counts', 'script_counts', 'n_scripts', 'script_char_counts', 'category_alias_counts', 'n_category', 'category_alias_char_counts', 'word_counts'])"
      ]
     },
     "execution_count": 15,
     "metadata": {},
     "output_type": "execute_result"
    }
   ],
   "source": [
    "description['variables']['Investigated By'].keys()"
   ]
  },
  {
   "cell_type": "code",
   "execution_count": 16,
   "metadata": {},
   "outputs": [
    {
     "data": {
      "application/vnd.jupyter.widget-view+json": {
       "model_id": "0d3bf0a608ee4b6aa165e567a6dde291",
       "version_major": 2,
       "version_minor": 0
      },
      "text/plain": [
       "Generate report structure:   0%|          | 0/1 [00:00<?, ?it/s]"
      ]
     },
     "metadata": {},
     "output_type": "display_data"
    },
    {
     "data": {
      "application/vnd.jupyter.widget-view+json": {
       "model_id": "b386d6cb7800457daa681b22eca1ffde",
       "version_major": 2,
       "version_minor": 0
      },
      "text/plain": [
       "Render HTML:   0%|          | 0/1 [00:00<?, ?it/s]"
      ]
     },
     "metadata": {},
     "output_type": "display_data"
    },
    {
     "name": "stderr",
     "output_type": "stream",
     "text": [
      "c:\\Users\\lgarzia\\Documents\\GitHub\\explainability\\venv\\lib\\site-packages\\ydata_profiling\\profile_report.py:355: UserWarning: Extension  not supported. For now we assume .html was intended. To remove this warning, please use .html or .json.\n",
      "  warnings.warn(\n"
     ]
    },
    {
     "data": {
      "application/vnd.jupyter.widget-view+json": {
       "model_id": "51b4b3614a2e4e47b65f9b2faa7ffadf",
       "version_major": 2,
       "version_minor": 0
      },
      "text/plain": [
       "Export report to file:   0%|          | 0/1 [00:00<?, ?it/s]"
      ]
     },
     "metadata": {},
     "output_type": "display_data"
    }
   ],
   "source": [
    "profile.to_file(f\"Profiling Report for {table_name}\")"
   ]
  },
  {
   "cell_type": "code",
   "execution_count": 18,
   "metadata": {},
   "outputs": [
    {
     "name": "stdout",
     "output_type": "stream",
     "text": [
      "{'statistic': 12744.789612097306, 'pvalue': 0.0}\n",
      "0.03965396499311058\n"
     ]
    }
   ],
   "source": [
    "# interesting \n",
    "print(description['variables']['Investigated By']['chi_squared'])\n",
    "# determine if uniformally distributed - https://docs.scipy.org/doc/scipy/reference/generated/scipy.stats.chisquare.html\n",
    "print(description['variables']['Investigated By']['imbalance'])\n",
    "# https://github.com/ydataai/ydata-profiling/blob/912baae63e2a10d20fc4a8b104408a096d24f3aa/src/ydata_profiling/model/pandas/imbalance_pandas.py\n",
    "# The class balance score for categorical and boolean variables uses entropy to calculate a  bounded score between 0 and 1.\n",
    "# A perfectly uniform distribution would return a score of 0, and a perfectly imbalanced distribution would return a score of 1.\n"
   ]
  },
  {
   "attachments": {},
   "cell_type": "markdown",
   "metadata": {},
   "source": [
    "dict_keys(['n_distinct', 'p_distinct', 'is_unique', 'n_unique', 'p_unique', 'type', 'hashable', 'value_counts_without_nan', 'value_counts_index_sorted', 'ordering', 'n_missing', 'n', 'p_missing', 'count', 'memory_size', 'imbalance', 'first_rows', 'chi_squared', 'max_length', 'mean_length', 'median_length', 'min_length', 'length_histogram', 'histogram_length', 'n_characters_distinct', 'n_characters', 'character_counts', 'category_alias_values', 'block_alias_values', 'block_alias_counts', 'n_block_alias', 'block_alias_char_counts', 'script_counts', 'n_scripts', 'script_char_counts', 'category_alias_counts', 'n_category', 'category_alias_char_counts', 'word_counts'])"
   ]
  },
  {
   "cell_type": "code",
   "execution_count": null,
   "metadata": {},
   "outputs": [],
   "source": []
  }
 ],
 "metadata": {
  "kernelspec": {
   "display_name": "venv",
   "language": "python",
   "name": "python3"
  },
  "language_info": {
   "codemirror_mode": {
    "name": "ipython",
    "version": 3
   },
   "file_extension": ".py",
   "mimetype": "text/x-python",
   "name": "python",
   "nbconvert_exporter": "python",
   "pygments_lexer": "ipython3",
   "version": "3.10.9"
  },
  "orig_nbformat": 4,
  "vscode": {
   "interpreter": {
    "hash": "42dbac9a4c649d470d0cde79f5b558654f0f0b04e7c4aed4559e7bf230ccb35b"
   }
  }
 },
 "nbformat": 4,
 "nbformat_minor": 2
}
