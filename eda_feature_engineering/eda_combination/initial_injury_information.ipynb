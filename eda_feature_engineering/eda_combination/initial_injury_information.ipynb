{
 "cells": [
  {
   "cell_type": "code",
   "execution_count": 1,
   "metadata": {},
   "outputs": [],
   "source": [
    "import dataprep.connector as dbc\n",
    "import urllib\n",
    "table_name = \"injury_information\"\n",
    "mshp_db_path = r\"C:\\Users\\lgarzia\\Documents\\GitHub\\explainability\\local_data\\data\\mshp.sqlite\" \n",
    "mshp_db_path = urllib.parse.quote(mshp_db_path)\n",
    "mshp_db_conn = \"sqlite://\"+mshp_db_path\n",
    "df = dbc.read_sql(mshp_db_conn, f\"SELECT * FROM {table_name}\")"
   ]
  },
  {
   "cell_type": "code",
   "execution_count": 2,
   "metadata": {},
   "outputs": [
    {
     "name": "stderr",
     "output_type": "stream",
     "text": [
      "Pandas backend loaded 1.5.3\n",
      "Numpy backend loaded 1.23.5\n",
      "Pyspark backend NOT loaded\n",
      "Python backend loaded\n"
     ]
    }
   ],
   "source": [
    "from ydata_profiling import ProfileReport"
   ]
  },
  {
   "cell_type": "code",
   "execution_count": 3,
   "metadata": {},
   "outputs": [],
   "source": [
    "profile = ProfileReport(df, title=f\"Profiling Report for {table_name}\")"
   ]
  },
  {
   "cell_type": "code",
   "execution_count": 4,
   "metadata": {},
   "outputs": [
    {
     "data": {
      "application/vnd.jupyter.widget-view+json": {
       "model_id": "5113199b55cd456a84594206ca28adc4",
       "version_major": 2,
       "version_minor": 0
      },
      "text/plain": [
       "Summarize dataset:   0%|          | 0/5 [00:00<?, ?it/s]"
      ]
     },
     "metadata": {},
     "output_type": "display_data"
    },
    {
     "data": {
      "application/vnd.jupyter.widget-view+json": {
       "model_id": "5e033e65e35f459ba03417d7449ee9ce",
       "version_major": 2,
       "version_minor": 0
      },
      "text/plain": [
       "Generate report structure:   0%|          | 0/1 [00:00<?, ?it/s]"
      ]
     },
     "metadata": {},
     "output_type": "display_data"
    },
    {
     "data": {
      "application/vnd.jupyter.widget-view+json": {
       "model_id": "2ebfe33f280a43c69d3dff8d643a629c",
       "version_major": 2,
       "version_minor": 0
      },
      "text/plain": [
       "Render HTML:   0%|          | 0/1 [00:00<?, ?it/s]"
      ]
     },
     "metadata": {},
     "output_type": "display_data"
    },
    {
     "name": "stderr",
     "output_type": "stream",
     "text": [
      "c:\\Users\\lgarzia\\Documents\\GitHub\\explainability\\venv\\lib\\site-packages\\ydata_profiling\\profile_report.py:355: UserWarning: Extension  not supported. For now we assume .html was intended. To remove this warning, please use .html or .json.\n",
      "  warnings.warn(\n"
     ]
    },
    {
     "data": {
      "application/vnd.jupyter.widget-view+json": {
       "model_id": "c0bf5edcb33f46a2928cf35c7b2ba384",
       "version_major": 2,
       "version_minor": 0
      },
      "text/plain": [
       "Export report to file:   0%|          | 0/1 [00:00<?, ?it/s]"
      ]
     },
     "metadata": {},
     "output_type": "display_data"
    }
   ],
   "source": [
    "profile.to_file(f\"Profiling Report for {table_name}\")"
   ]
  },
  {
   "cell_type": "code",
   "execution_count": 6,
   "metadata": {},
   "outputs": [
    {
     "data": {
      "text/html": [
       "<div>\n",
       "<style scoped>\n",
       "    .dataframe tbody tr th:only-of-type {\n",
       "        vertical-align: middle;\n",
       "    }\n",
       "\n",
       "    .dataframe tbody tr th {\n",
       "        vertical-align: top;\n",
       "    }\n",
       "\n",
       "    .dataframe thead th {\n",
       "        text-align: right;\n",
       "    }\n",
       "</style>\n",
       "<table border=\"1\" class=\"dataframe\">\n",
       "  <thead>\n",
       "    <tr style=\"text-align: right;\">\n",
       "      <th></th>\n",
       "      <th>df_index</th>\n",
       "      <th>Veh. #</th>\n",
       "      <th>Name</th>\n",
       "      <th>Gender</th>\n",
       "      <th>Age</th>\n",
       "      <th>Injury Type</th>\n",
       "      <th>Safety Device</th>\n",
       "      <th>City/State</th>\n",
       "      <th>Involvement</th>\n",
       "      <th>Disposition</th>\n",
       "      <th>acc_uuid</th>\n",
       "    </tr>\n",
       "  </thead>\n",
       "  <tbody>\n",
       "    <tr>\n",
       "      <th>4</th>\n",
       "      <td>0</td>\n",
       "      <td>1</td>\n",
       "      <td>JUVENILE,</td>\n",
       "      <td>MALE</td>\n",
       "      <td>12</td>\n",
       "      <td>MODERATE</td>\n",
       "      <td>YES</td>\n",
       "      <td>ST PETERS, MO</td>\n",
       "      <td>OCCUPANT</td>\n",
       "      <td>TRANSPORTED TO SSM HEALTH ST JOSEPH HOSPITAL L...</td>\n",
       "      <td>0f9c245e-1373-4c73-a443-b3623270e573</td>\n",
       "    </tr>\n",
       "    <tr>\n",
       "      <th>5</th>\n",
       "      <td>1</td>\n",
       "      <td>1</td>\n",
       "      <td>JUVENILE,</td>\n",
       "      <td>MALE</td>\n",
       "      <td>15</td>\n",
       "      <td>MODERATE</td>\n",
       "      <td>YES</td>\n",
       "      <td>ST PETERS, MO</td>\n",
       "      <td>DRIVER</td>\n",
       "      <td>TRANSPORTED TO SSM HEALTH ST JOSEPH HOSPITAL L...</td>\n",
       "      <td>0f9c245e-1373-4c73-a443-b3623270e573</td>\n",
       "    </tr>\n",
       "    <tr>\n",
       "      <th>6</th>\n",
       "      <td>2</td>\n",
       "      <td>1</td>\n",
       "      <td>BISHOP, BRIAN R</td>\n",
       "      <td>MALE</td>\n",
       "      <td>48</td>\n",
       "      <td>SERIOUS</td>\n",
       "      <td>YES</td>\n",
       "      <td>ST PETERS, MO</td>\n",
       "      <td>OCCUPANT</td>\n",
       "      <td>TRANSPORTED TO SSM HEALTH ST JOSEPH HOSPITAL L...</td>\n",
       "      <td>0f9c245e-1373-4c73-a443-b3623270e573</td>\n",
       "    </tr>\n",
       "    <tr>\n",
       "      <th>8</th>\n",
       "      <td>0</td>\n",
       "      <td>1</td>\n",
       "      <td>PONTREMOLI, STEPHEN A</td>\n",
       "      <td>MALE</td>\n",
       "      <td>46</td>\n",
       "      <td>MODERATE</td>\n",
       "      <td>YES</td>\n",
       "      <td>ST JAMES, MO</td>\n",
       "      <td>DRIVER</td>\n",
       "      <td>TRANSPORTED BY ST JAMES AMBULANCE TO PHELPS HE...</td>\n",
       "      <td>16fe17ef-6e0b-4192-825d-1640b814e785</td>\n",
       "    </tr>\n",
       "    <tr>\n",
       "      <th>9</th>\n",
       "      <td>1</td>\n",
       "      <td>2</td>\n",
       "      <td>HAGGARD, DEBORAH A</td>\n",
       "      <td>FEMALE</td>\n",
       "      <td>61</td>\n",
       "      <td>MINOR</td>\n",
       "      <td>YES</td>\n",
       "      <td>ST JOHN, MO</td>\n",
       "      <td>OCCUPANT</td>\n",
       "      <td>TRANSPORTED BY ST JAMES AMBULANCE TO PHELPS HE...</td>\n",
       "      <td>16fe17ef-6e0b-4192-825d-1640b814e785</td>\n",
       "    </tr>\n",
       "  </tbody>\n",
       "</table>\n",
       "</div>"
      ],
      "text/plain": [
       "   df_index  Veh. #                   Name  Gender Age Injury Type  \\\n",
       "4         0       1              JUVENILE,    MALE  12    MODERATE   \n",
       "5         1       1              JUVENILE,    MALE  15    MODERATE   \n",
       "6         2       1        BISHOP, BRIAN R    MALE  48     SERIOUS   \n",
       "8         0       1  PONTREMOLI, STEPHEN A    MALE  46    MODERATE   \n",
       "9         1       2     HAGGARD, DEBORAH A  FEMALE  61       MINOR   \n",
       "\n",
       "  Safety Device     City/State Involvement  \\\n",
       "4           YES  ST PETERS, MO    OCCUPANT   \n",
       "5           YES  ST PETERS, MO      DRIVER   \n",
       "6           YES  ST PETERS, MO    OCCUPANT   \n",
       "8           YES   ST JAMES, MO      DRIVER   \n",
       "9           YES    ST JOHN, MO    OCCUPANT   \n",
       "\n",
       "                                         Disposition  \\\n",
       "4  TRANSPORTED TO SSM HEALTH ST JOSEPH HOSPITAL L...   \n",
       "5  TRANSPORTED TO SSM HEALTH ST JOSEPH HOSPITAL L...   \n",
       "6  TRANSPORTED TO SSM HEALTH ST JOSEPH HOSPITAL L...   \n",
       "8  TRANSPORTED BY ST JAMES AMBULANCE TO PHELPS HE...   \n",
       "9  TRANSPORTED BY ST JAMES AMBULANCE TO PHELPS HE...   \n",
       "\n",
       "                               acc_uuid  \n",
       "4  0f9c245e-1373-4c73-a443-b3623270e573  \n",
       "5  0f9c245e-1373-4c73-a443-b3623270e573  \n",
       "6  0f9c245e-1373-4c73-a443-b3623270e573  \n",
       "8  16fe17ef-6e0b-4192-825d-1640b814e785  \n",
       "9  16fe17ef-6e0b-4192-825d-1640b814e785  "
      ]
     },
     "execution_count": 6,
     "metadata": {},
     "output_type": "execute_result"
    }
   ],
   "source": [
    "df_g = df.groupby(['acc_uuid']).filter(lambda x: x['df_index'].count() > 1)\n",
    "df_g.head(n=5)"
   ]
  },
  {
   "cell_type": "code",
   "execution_count": 15,
   "metadata": {},
   "outputs": [],
   "source": [
    "sql = '''\tselect DISTINCT dcr.acc_rpt_num, dcr.acc_uuid, \n",
    "\tcoalesce(dcr.Name, ii.Name) Name,  \n",
    "\tcoalesce(dcr.\"Personal Injury\", ii.\"Injury Type\") injury_type, \n",
    "\tcoalesce(dcr.Age, ii.Age) Age,\n",
    "\tcoalesce(dcr.\"Person City/State\", ii.\"City/State\") city_state,\n",
    "\tdcr.\"Safety Device\", dcr.Date, dcr.Time, dcr.Troop, dcr.\"Crash Location\",\n",
    "    ii.Gender,\n",
    "\tii.\"Veh. #\", \n",
    "\tii.\"Involvement\",\n",
    "\tii.Disposition\n",
    "\tfrom daily_crash_report dcr\n",
    "\tleft outer join injury_information ii on dcr.acc_uuid = ii.acc_uuid  --13751, inner(10129)\n",
    "\tand dcr.Name = ii.Name \n",
    "\tand dcr.Age = ii.Age \n",
    "\tand dcr.\"Person City/State\" = ii.\"City/State\"\n",
    "\tand dcr.\"Personal Injury\" = ii.\"Injury Type\"\n",
    "'''"
   ]
  },
  {
   "cell_type": "code",
   "execution_count": 16,
   "metadata": {},
   "outputs": [],
   "source": [
    "df = dbc.read_sql(mshp_db_conn, sql)"
   ]
  },
  {
   "cell_type": "code",
   "execution_count": 17,
   "metadata": {},
   "outputs": [],
   "source": [
    "profile = ProfileReport(df, title=f\"Profiling Report for crs-injury-information\")"
   ]
  },
  {
   "cell_type": "code",
   "execution_count": 18,
   "metadata": {},
   "outputs": [
    {
     "data": {
      "application/vnd.jupyter.widget-view+json": {
       "model_id": "d093617ffed34199a62c553be083fa37",
       "version_major": 2,
       "version_minor": 0
      },
      "text/plain": [
       "Summarize dataset:   0%|          | 0/5 [00:00<?, ?it/s]"
      ]
     },
     "metadata": {},
     "output_type": "display_data"
    },
    {
     "data": {
      "application/vnd.jupyter.widget-view+json": {
       "model_id": "fd3da62f76d748bab050c98710fc6f13",
       "version_major": 2,
       "version_minor": 0
      },
      "text/plain": [
       "Generate report structure:   0%|          | 0/1 [00:00<?, ?it/s]"
      ]
     },
     "metadata": {},
     "output_type": "display_data"
    },
    {
     "data": {
      "application/vnd.jupyter.widget-view+json": {
       "model_id": "44ec0fe3cb6b4f95a1ffd8ba212bae5f",
       "version_major": 2,
       "version_minor": 0
      },
      "text/plain": [
       "Render HTML:   0%|          | 0/1 [00:00<?, ?it/s]"
      ]
     },
     "metadata": {},
     "output_type": "display_data"
    },
    {
     "name": "stderr",
     "output_type": "stream",
     "text": [
      "c:\\Users\\lgarzia\\Documents\\GitHub\\explainability\\venv\\lib\\site-packages\\ydata_profiling\\profile_report.py:355: UserWarning: Extension  not supported. For now we assume .html was intended. To remove this warning, please use .html or .json.\n",
      "  warnings.warn(\n"
     ]
    },
    {
     "data": {
      "application/vnd.jupyter.widget-view+json": {
       "model_id": "db3c1c336fc04e25a084cfca42b543be",
       "version_major": 2,
       "version_minor": 0
      },
      "text/plain": [
       "Export report to file:   0%|          | 0/1 [00:00<?, ?it/s]"
      ]
     },
     "metadata": {},
     "output_type": "display_data"
    }
   ],
   "source": [
    "profile.to_file(f\"Profiling Report for crs-injury-information\")"
   ]
  },
  {
   "cell_type": "code",
   "execution_count": null,
   "metadata": {},
   "outputs": [],
   "source": []
  }
 ],
 "metadata": {
  "kernelspec": {
   "display_name": "venv",
   "language": "python",
   "name": "python3"
  },
  "language_info": {
   "codemirror_mode": {
    "name": "ipython",
    "version": 3
   },
   "file_extension": ".py",
   "mimetype": "text/x-python",
   "name": "python",
   "nbconvert_exporter": "python",
   "pygments_lexer": "ipython3",
   "version": "3.10.9"
  },
  "orig_nbformat": 4,
  "vscode": {
   "interpreter": {
    "hash": "42dbac9a4c649d470d0cde79f5b558654f0f0b04e7c4aed4559e7bf230ccb35b"
   }
  }
 },
 "nbformat": 4,
 "nbformat_minor": 2
}
