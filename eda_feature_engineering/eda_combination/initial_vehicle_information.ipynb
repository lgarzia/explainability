{
 "cells": [
  {
   "cell_type": "code",
   "execution_count": 1,
   "metadata": {},
   "outputs": [],
   "source": [
    "import dataprep.connector as dbc\n",
    "import urllib\n",
    "table_name = \"injury_information\"\n",
    "mshp_db_path = r\"C:\\Users\\lgarzia\\Documents\\GitHub\\explainability\\local_data\\data\\mshp.sqlite\" \n",
    "mshp_db_path = urllib.parse.quote(mshp_db_path)\n",
    "mshp_db_conn = \"sqlite://\"+mshp_db_path"
   ]
  },
  {
   "cell_type": "code",
   "execution_count": 12,
   "metadata": {},
   "outputs": [],
   "source": [
    "sql = '''\n",
    "\tselect DISTINCT dcr.acc_rpt_num, dcr.acc_uuid, vi.acc_uuid as acc_uuid_vi,\n",
    "\tcoalesce(dcr.Name, vi.\"Driver Name\") Name,  \n",
    "\tcoalesce(dcr.Age, vi.\"Driver Age\") Age,\n",
    "\tcoalesce(dcr.\"Person City/State\", vi.\"Driver City/State\") city_state,\n",
    "\tdcr.\"Safety Device\", dcr.Date, dcr.Time, dcr.Troop, dcr.\"Crash Location\",\n",
    "\tvi.\"Veh. #\", vi.\"Vehicle Description\", vi.Damage, vi.Disposition, vi.\"Driver Gender\", \n",
    "\tvi.\"Driver Age\", vi.\"Safety Device\" as vi_safety_device, vi.\"Driver Insurance\", vi.\"Vehicle Direction\"\n",
    "\tfrom daily_crash_report dcr\n",
    "\tleft outer join vehicle_information vi on dcr.acc_uuid = vi.acc_uuid  --13751, inner(10129)\n",
    "\tand dcr.Name = vi.\"Driver Name\" \n",
    "\tand dcr.Age = vi.\"Driver Age\" \n",
    "\tand dcr.\"Person City/State\" = vi.\"Driver City/State\"\n",
    "'''"
   ]
  },
  {
   "cell_type": "code",
   "execution_count": 13,
   "metadata": {},
   "outputs": [],
   "source": [
    "df = dbc.read_sql(mshp_db_conn, sql)"
   ]
  },
  {
   "cell_type": "code",
   "execution_count": 14,
   "metadata": {},
   "outputs": [],
   "source": [
    "from ydata_profiling import ProfileReport"
   ]
  },
  {
   "cell_type": "code",
   "execution_count": 15,
   "metadata": {},
   "outputs": [],
   "source": [
    "profile = ProfileReport(df, title=f\"Profiling Report for crs-vehicle information\")"
   ]
  },
  {
   "cell_type": "code",
   "execution_count": 16,
   "metadata": {},
   "outputs": [
    {
     "data": {
      "application/vnd.jupyter.widget-view+json": {
       "model_id": "daa3a1dccd1e46068b39886a9bb452ef",
       "version_major": 2,
       "version_minor": 0
      },
      "text/plain": [
       "Summarize dataset:   0%|          | 0/5 [00:00<?, ?it/s]"
      ]
     },
     "metadata": {},
     "output_type": "display_data"
    },
    {
     "data": {
      "application/vnd.jupyter.widget-view+json": {
       "model_id": "2f4e147c24eb4d39bb43e1d831f2b5ee",
       "version_major": 2,
       "version_minor": 0
      },
      "text/plain": [
       "Generate report structure:   0%|          | 0/1 [00:00<?, ?it/s]"
      ]
     },
     "metadata": {},
     "output_type": "display_data"
    },
    {
     "data": {
      "application/vnd.jupyter.widget-view+json": {
       "model_id": "4f7e2bba1a384f39a16e97b3a2c0b4a9",
       "version_major": 2,
       "version_minor": 0
      },
      "text/plain": [
       "Render HTML:   0%|          | 0/1 [00:00<?, ?it/s]"
      ]
     },
     "metadata": {},
     "output_type": "display_data"
    },
    {
     "name": "stderr",
     "output_type": "stream",
     "text": [
      "c:\\Users\\lgarzia\\Documents\\GitHub\\explainability\\venv\\lib\\site-packages\\ydata_profiling\\profile_report.py:355: UserWarning: Extension  not supported. For now we assume .html was intended. To remove this warning, please use .html or .json.\n",
      "  warnings.warn(\n"
     ]
    },
    {
     "data": {
      "application/vnd.jupyter.widget-view+json": {
       "model_id": "bfb343dc1fbe4f51ac909435a618e0cc",
       "version_major": 2,
       "version_minor": 0
      },
      "text/plain": [
       "Export report to file:   0%|          | 0/1 [00:00<?, ?it/s]"
      ]
     },
     "metadata": {},
     "output_type": "display_data"
    }
   ],
   "source": [
    "profile.to_file(f\"Profiling Report for crs-vehicle information\")"
   ]
  },
  {
   "cell_type": "code",
   "execution_count": null,
   "metadata": {},
   "outputs": [],
   "source": []
  }
 ],
 "metadata": {
  "kernelspec": {
   "display_name": "venv",
   "language": "python",
   "name": "python3"
  },
  "language_info": {
   "codemirror_mode": {
    "name": "ipython",
    "version": 3
   },
   "file_extension": ".py",
   "mimetype": "text/x-python",
   "name": "python",
   "nbconvert_exporter": "python",
   "pygments_lexer": "ipython3",
   "version": "3.10.9"
  },
  "orig_nbformat": 4,
  "vscode": {
   "interpreter": {
    "hash": "42dbac9a4c649d470d0cde79f5b558654f0f0b04e7c4aed4559e7bf230ccb35b"
   }
  }
 },
 "nbformat": 4,
 "nbformat_minor": 2
}
