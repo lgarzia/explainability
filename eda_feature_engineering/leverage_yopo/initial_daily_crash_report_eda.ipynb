{
 "cells": [
  {
   "cell_type": "code",
   "execution_count": 1,
   "metadata": {},
   "outputs": [],
   "source": [
    "import dataprep.connector as dbc\n",
    "import urllib\n",
    "mshp_db_path = r\"C:\\Users\\lgarzia\\Documents\\GitHub\\explainability\\local_data\\data\\mshp.sqlite\" \n",
    "mshp_db_path = urllib.parse.quote(mshp_db_path)\n",
    "mshp_db_conn = \"sqlite://\"+mshp_db_path\n",
    "df = dbc.read_sql(mshp_db_conn, \"SELECT * FROM daily_crash_report\")"
   ]
  },
  {
   "cell_type": "code",
   "execution_count": 3,
   "metadata": {},
   "outputs": [
    {
     "ename": "ImportError",
     "evalue": "cannot import name 'get_current_traceback' from 'werkzeug.debug.tbtools' (c:\\Users\\lgarzia\\Documents\\GitHub\\explainability\\venv\\lib\\site-packages\\werkzeug\\debug\\tbtools.py)",
     "output_type": "error",
     "traceback": [
      "\u001b[1;31m---------------------------------------------------------------------------\u001b[0m",
      "\u001b[1;31mImportError\u001b[0m                               Traceback (most recent call last)",
      "Cell \u001b[1;32mIn[3], line 1\u001b[0m\n\u001b[1;32m----> 1\u001b[0m \u001b[39mfrom\u001b[39;00m \u001b[39myopo\u001b[39;00m \u001b[39mimport\u001b[39;00m dashboard\n",
      "File \u001b[1;32mc:\\Users\\lgarzia\\Documents\\GitHub\\explainability\\venv\\lib\\site-packages\\yopo\\__init__.py:5\u001b[0m\n\u001b[0;32m      3\u001b[0m \u001b[39mfrom\u001b[39;00m \u001b[39mwtforms\u001b[39;00m\u001b[39m.\u001b[39;00m\u001b[39mvalidators\u001b[39;00m \u001b[39mimport\u001b[39;00m DataRequired\n\u001b[0;32m      4\u001b[0m \u001b[39mfrom\u001b[39;00m \u001b[39mflask\u001b[39;00m \u001b[39mimport\u001b[39;00m request\n\u001b[1;32m----> 5\u001b[0m \u001b[39mimport\u001b[39;00m \u001b[39mdash\u001b[39;00m\n\u001b[0;32m      6\u001b[0m \u001b[39mfrom\u001b[39;00m \u001b[39mdash\u001b[39;00m \u001b[39mimport\u001b[39;00m dcc\n\u001b[0;32m      7\u001b[0m \u001b[39mfrom\u001b[39;00m \u001b[39mdash\u001b[39;00m \u001b[39mimport\u001b[39;00m html\n",
      "File \u001b[1;32mc:\\Users\\lgarzia\\Documents\\GitHub\\explainability\\venv\\lib\\site-packages\\dash\\__init__.py:5\u001b[0m\n\u001b[0;32m      1\u001b[0m \u001b[39m# pylint: disable=C0413\u001b[39;00m\n\u001b[0;32m      2\u001b[0m \u001b[39m# __plotly_dash is for the \"make sure you don't have a dash.py\" check\u001b[39;00m\n\u001b[0;32m      3\u001b[0m \u001b[39m# must come before any other imports.\u001b[39;00m\n\u001b[0;32m      4\u001b[0m __plotly_dash \u001b[39m=\u001b[39m \u001b[39mTrue\u001b[39;00m\n\u001b[1;32m----> 5\u001b[0m \u001b[39mfrom\u001b[39;00m \u001b[39m.\u001b[39;00m\u001b[39mdash\u001b[39;00m \u001b[39mimport\u001b[39;00m Dash, no_update  \u001b[39m# noqa: F401,E402\u001b[39;00m\n\u001b[0;32m      6\u001b[0m \u001b[39mfrom\u001b[39;00m \u001b[39m.\u001b[39;00m\u001b[39mdependencies\u001b[39;00m \u001b[39mimport\u001b[39;00m (  \u001b[39m# noqa: F401,E402\u001b[39;00m\n\u001b[0;32m      7\u001b[0m     Input,  \u001b[39m# noqa: F401,E402\u001b[39;00m\n\u001b[0;32m      8\u001b[0m     Output,  \u001b[39m# noqa: F401,E402\u001b[39;00m\n\u001b[1;32m   (...)\u001b[0m\n\u001b[0;32m     13\u001b[0m     ALLSMALLER,  \u001b[39m# noqa: F401,E402\u001b[39;00m\n\u001b[0;32m     14\u001b[0m )  \u001b[39m# noqa: F401,E402\u001b[39;00m\n\u001b[0;32m     15\u001b[0m \u001b[39mfrom\u001b[39;00m \u001b[39m.\u001b[39;00m \u001b[39mimport\u001b[39;00m development  \u001b[39m# noqa: F401,E402\u001b[39;00m\n",
      "File \u001b[1;32mc:\\Users\\lgarzia\\Documents\\GitHub\\explainability\\venv\\lib\\site-packages\\dash\\dash.py:18\u001b[0m\n\u001b[0;32m     16\u001b[0m \u001b[39mimport\u001b[39;00m \u001b[39mflask\u001b[39;00m\n\u001b[0;32m     17\u001b[0m \u001b[39mfrom\u001b[39;00m \u001b[39mflask_compress\u001b[39;00m \u001b[39mimport\u001b[39;00m Compress\n\u001b[1;32m---> 18\u001b[0m \u001b[39mfrom\u001b[39;00m \u001b[39mwerkzeug\u001b[39;00m\u001b[39m.\u001b[39;00m\u001b[39mdebug\u001b[39;00m\u001b[39m.\u001b[39;00m\u001b[39mtbtools\u001b[39;00m \u001b[39mimport\u001b[39;00m get_current_traceback\n\u001b[0;32m     19\u001b[0m \u001b[39mfrom\u001b[39;00m \u001b[39mpkg_resources\u001b[39;00m \u001b[39mimport\u001b[39;00m get_distribution, parse_version\n\u001b[0;32m     20\u001b[0m \u001b[39mfrom\u001b[39;00m \u001b[39mdash\u001b[39;00m \u001b[39mimport\u001b[39;00m dcc\n",
      "\u001b[1;31mImportError\u001b[0m: cannot import name 'get_current_traceback' from 'werkzeug.debug.tbtools' (c:\\Users\\lgarzia\\Documents\\GitHub\\explainability\\venv\\lib\\site-packages\\werkzeug\\debug\\tbtools.py)"
     ]
    }
   ],
   "source": [
    "from yopo import dashboard "
   ]
  },
  {
   "cell_type": "code",
   "execution_count": null,
   "metadata": {},
   "outputs": [],
   "source": [
    "das"
   ]
  }
 ],
 "metadata": {
  "kernelspec": {
   "display_name": "venv",
   "language": "python",
   "name": "python3"
  },
  "language_info": {
   "codemirror_mode": {
    "name": "ipython",
    "version": 3
   },
   "file_extension": ".py",
   "mimetype": "text/x-python",
   "name": "python",
   "nbconvert_exporter": "python",
   "pygments_lexer": "ipython3",
   "version": "3.10.9"
  },
  "orig_nbformat": 4,
  "vscode": {
   "interpreter": {
    "hash": "42dbac9a4c649d470d0cde79f5b558654f0f0b04e7c4aed4559e7bf230ccb35b"
   }
  }
 },
 "nbformat": 4,
 "nbformat_minor": 2
}
