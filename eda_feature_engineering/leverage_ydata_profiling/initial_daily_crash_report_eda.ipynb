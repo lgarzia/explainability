{
 "cells": [
  {
   "cell_type": "code",
   "execution_count": 1,
   "metadata": {},
   "outputs": [],
   "source": [
    "import dataprep.connector as dbc\n",
    "import urllib\n",
    "mshp_db_path = r\"C:\\Users\\lgarzia\\Documents\\GitHub\\explainability\\local_data\\data\\mshp.sqlite\" \n",
    "mshp_db_path = urllib.parse.quote(mshp_db_path)\n",
    "mshp_db_conn = \"sqlite://\"+mshp_db_path\n",
    "df = dbc.read_sql(mshp_db_conn, \"SELECT * FROM daily_crash_report\")"
   ]
  },
  {
   "cell_type": "code",
   "execution_count": 2,
   "metadata": {},
   "outputs": [
    {
     "name": "stderr",
     "output_type": "stream",
     "text": [
      "Pandas backend loaded 1.5.3\n",
      "Numpy backend loaded 1.23.5\n",
      "Pyspark backend NOT loaded\n",
      "Python backend loaded\n"
     ]
    }
   ],
   "source": [
    "from ydata_profiling import ProfileReport"
   ]
  },
  {
   "cell_type": "code",
   "execution_count": 3,
   "metadata": {},
   "outputs": [],
   "source": [
    "profile = ProfileReport(df, title=\"initial_daily_crash_report_eda\")"
   ]
  },
  {
   "cell_type": "code",
   "execution_count": 7,
   "metadata": {},
   "outputs": [
    {
     "name": "stdout",
     "output_type": "stream",
     "text": [
      "compare\n",
      "config\n",
      "description_set\n",
      "df\n",
      "df_hash\n",
      "dump\n",
      "dumps\n",
      "get_description\n",
      "get_duplicates\n",
      "get_rejected_variables\n",
      "get_sample\n",
      "html\n",
      "invalidate_cache\n",
      "json\n",
      "load\n",
      "loads\n",
      "report\n",
      "summarizer\n",
      "to_expectation_suite\n",
      "to_file\n",
      "to_html\n",
      "to_json\n",
      "to_notebook_iframe\n",
      "to_widgets\n",
      "typeset\n",
      "widgets\n"
     ]
    }
   ],
   "source": [
    "_ = [print(d) for d in dir(profile) if not d.startswith('_')]"
   ]
  },
  {
   "cell_type": "code",
   "execution_count": 9,
   "metadata": {},
   "outputs": [],
   "source": [
    "desc_dct = profile.get_description()"
   ]
  },
  {
   "cell_type": "code",
   "execution_count": 10,
   "metadata": {},
   "outputs": [
    {
     "data": {
      "text/plain": [
       "dict_keys(['analysis', 'table', 'variables', 'scatter', 'correlations', 'missing', 'alerts', 'package', 'sample', 'duplicates'])"
      ]
     },
     "execution_count": 10,
     "metadata": {},
     "output_type": "execute_result"
    }
   ],
   "source": [
    "desc_dct.keys()"
   ]
  },
  {
   "cell_type": "code",
   "execution_count": 11,
   "metadata": {},
   "outputs": [
    {
     "data": {
      "text/plain": [
       "{'title': 'initial_daily_crash_report_eda',\n",
       " 'date_start': datetime.datetime(2023, 3, 11, 14, 37, 6, 188244),\n",
       " 'date_end': datetime.datetime(2023, 3, 11, 14, 37, 9, 615408),\n",
       " 'duration': datetime.timedelta(seconds=3, microseconds=427164)}"
      ]
     },
     "execution_count": 11,
     "metadata": {},
     "output_type": "execute_result"
    }
   ],
   "source": [
    "desc_dct['analysis']"
   ]
  },
  {
   "cell_type": "code",
   "execution_count": 13,
   "metadata": {},
   "outputs": [
    {
     "data": {
      "text/plain": [
       "{'n': 13689,\n",
       " 'n_var': 15,\n",
       " 'memory_size': 1656497,\n",
       " 'record_size': 121.00935057345313,\n",
       " 'n_cells_missing': 30,\n",
       " 'n_vars_with_missing': 1,\n",
       " 'n_vars_all_missing': 0,\n",
       " 'p_cells_missing': 0.00014610271020527432,\n",
       " 'types': {'Numeric': 1, 'Categorical': 14},\n",
       " 'n_duplicates': 0,\n",
       " 'p_duplicates': 0.0}"
      ]
     },
     "execution_count": 13,
     "metadata": {},
     "output_type": "execute_result"
    }
   ],
   "source": [
    "desc_dct['table']"
   ]
  },
  {
   "cell_type": "code",
   "execution_count": 15,
   "metadata": {},
   "outputs": [
    {
     "data": {
      "text/plain": [
       "{'n_distinct': 100,\n",
       " 'p_distinct': 0.007305135510263716,\n",
       " 'is_unique': False,\n",
       " 'n_unique': 5,\n",
       " 'p_unique': 0.0003652567755131858,\n",
       " 'type': 'Categorical',\n",
       " 'hashable': True,\n",
       " 'value_counts_without_nan': 18    426\n",
       " 17    398\n",
       " 19    359\n",
       " 16    331\n",
       " 20    325\n",
       "      ... \n",
       " 97      1\n",
       " 94      1\n",
       " 95      1\n",
       " 98      1\n",
       " 99      1\n",
       " Name: Age, Length: 100, dtype: int64,\n",
       " 'value_counts_index_sorted': 0       37\n",
       " 1       33\n",
       " 10      43\n",
       " 11      49\n",
       " 12      52\n",
       "       ... \n",
       " 95       1\n",
       " 97       1\n",
       " 98       1\n",
       " 99       1\n",
       " UNK    137\n",
       " Name: Age, Length: 100, dtype: int64,\n",
       " 'ordering': True,\n",
       " 'n_missing': 0,\n",
       " 'n': 13689,\n",
       " 'p_missing': 0.0,\n",
       " 'count': 13689,\n",
       " 'memory_size': 109640,\n",
       " 'imbalance': 0.06519485482846388,\n",
       " 'first_rows': 0    38\n",
       " 1    48\n",
       " 2    38\n",
       " 3    59\n",
       " 4    19\n",
       " Name: Age, dtype: object,\n",
       " 'chi_squared': {'statistic': 7388.047264226753, 'pvalue': 0.0},\n",
       " 'max_length': 3,\n",
       " 'mean_length': 1.9809335963182118,\n",
       " 'median_length': 2,\n",
       " 'min_length': 1,\n",
       " 'length_histogram': 2    13154\n",
       " 1      398\n",
       " 3      137\n",
       " Name: Age, dtype: int64,\n",
       " 'histogram_length': (array([  398, 13154,   137], dtype=int64),\n",
       "  array([1.        , 1.66666667, 2.33333333, 3.        ])),\n",
       " 'n_characters_distinct': 13,\n",
       " 'n_characters': 27117,\n",
       " 'character_counts': 2    3981\n",
       " 3    3663\n",
       " 1    3222\n",
       " 4    3087\n",
       " 5    3028\n",
       " 6    2834\n",
       " 7    2253\n",
       " 8    1759\n",
       " 9    1450\n",
       " 0    1429\n",
       " U     137\n",
       " N     137\n",
       " K     137\n",
       " Name: Age, dtype: int64,\n",
       " 'category_alias_values': {'2': 'Decimal_Number',\n",
       "  '3': 'Decimal_Number',\n",
       "  '1': 'Decimal_Number',\n",
       "  '4': 'Decimal_Number',\n",
       "  '5': 'Decimal_Number',\n",
       "  '6': 'Decimal_Number',\n",
       "  '7': 'Decimal_Number',\n",
       "  '8': 'Decimal_Number',\n",
       "  '9': 'Decimal_Number',\n",
       "  '0': 'Decimal_Number',\n",
       "  'U': 'Uppercase_Letter',\n",
       "  'N': 'Uppercase_Letter',\n",
       "  'K': 'Uppercase_Letter'},\n",
       " 'block_alias_values': {'2': 'ASCII',\n",
       "  '3': 'ASCII',\n",
       "  '1': 'ASCII',\n",
       "  '4': 'ASCII',\n",
       "  '5': 'ASCII',\n",
       "  '6': 'ASCII',\n",
       "  '7': 'ASCII',\n",
       "  '8': 'ASCII',\n",
       "  '9': 'ASCII',\n",
       "  '0': 'ASCII',\n",
       "  'U': 'ASCII',\n",
       "  'N': 'ASCII',\n",
       "  'K': 'ASCII'},\n",
       " 'block_alias_counts': ASCII    27117\n",
       " dtype: int64,\n",
       " 'n_block_alias': 1,\n",
       " 'block_alias_char_counts': {'ASCII': 2    3981\n",
       "  3    3663\n",
       "  1    3222\n",
       "  4    3087\n",
       "  5    3028\n",
       "  6    2834\n",
       "  7    2253\n",
       "  8    1759\n",
       "  9    1450\n",
       "  0    1429\n",
       "  U     137\n",
       "  N     137\n",
       "  K     137\n",
       "  dtype: int64},\n",
       " 'script_counts': Common    26706\n",
       " Latin       411\n",
       " dtype: int64,\n",
       " 'n_scripts': 2,\n",
       " 'script_char_counts': {'Common': 2    3981\n",
       "  3    3663\n",
       "  1    3222\n",
       "  4    3087\n",
       "  5    3028\n",
       "  6    2834\n",
       "  7    2253\n",
       "  8    1759\n",
       "  9    1450\n",
       "  0    1429\n",
       "  dtype: int64,\n",
       "  'Latin': U    137\n",
       "  N    137\n",
       "  K    137\n",
       "  dtype: int64},\n",
       " 'category_alias_counts': Decimal Number      26706\n",
       " Uppercase Letter      411\n",
       " dtype: int64,\n",
       " 'n_category': 2,\n",
       " 'category_alias_char_counts': {'Decimal_Number': 2    3981\n",
       "  3    3663\n",
       "  1    3222\n",
       "  4    3087\n",
       "  5    3028\n",
       "  6    2834\n",
       "  7    2253\n",
       "  8    1759\n",
       "  9    1450\n",
       "  0    1429\n",
       "  dtype: int64,\n",
       "  'Uppercase_Letter': U    137\n",
       "  N    137\n",
       "  K    137\n",
       "  dtype: int64},\n",
       " 'word_counts': 18    426\n",
       " 17    398\n",
       " 19    359\n",
       " 16    331\n",
       " 20    325\n",
       "      ... \n",
       " 97      1\n",
       " 94      1\n",
       " 95      1\n",
       " 98      1\n",
       " 99      1\n",
       " Name: Age, Length: 100, dtype: int64}"
      ]
     },
     "execution_count": 15,
     "metadata": {},
     "output_type": "execute_result"
    }
   ],
   "source": [
    "desc_dct['variables']['Age']"
   ]
  },
  {
   "cell_type": "code",
   "execution_count": 16,
   "metadata": {},
   "outputs": [
    {
     "data": {
      "application/vnd.jupyter.widget-view+json": {
       "model_id": "838961a81ae94ed7abdf3bd09cf01d4e",
       "version_major": 2,
       "version_minor": 0
      },
      "text/plain": [
       "Generate report structure:   0%|          | 0/1 [00:00<?, ?it/s]"
      ]
     },
     "metadata": {},
     "output_type": "display_data"
    },
    {
     "data": {
      "application/vnd.jupyter.widget-view+json": {
       "model_id": "3f00c8fe487147b1add361cc61b3c6af",
       "version_major": 2,
       "version_minor": 0
      },
      "text/plain": [
       "Render HTML:   0%|          | 0/1 [00:00<?, ?it/s]"
      ]
     },
     "metadata": {},
     "output_type": "display_data"
    },
    {
     "data": {
      "application/vnd.jupyter.widget-view+json": {
       "model_id": "9b83edf3cdc941c9864f3b01b716b5a0",
       "version_major": 2,
       "version_minor": 0
      },
      "text/plain": [
       "Export report to file:   0%|          | 0/1 [00:00<?, ?it/s]"
      ]
     },
     "metadata": {},
     "output_type": "display_data"
    }
   ],
   "source": [
    "profile.to_file(\"initial_daily_crash_report_eda.html\")"
   ]
  },
  {
   "cell_type": "code",
   "execution_count": 17,
   "metadata": {},
   "outputs": [
    {
     "data": {
      "text/plain": [
       "[[CONSTANT] alert on column Report,\n",
       " [HIGH_CARDINALITY] alert on column raw_href,\n",
       " [HIGH_CARDINALITY] alert on column acc_rpt_num,\n",
       " [HIGH_CARDINALITY] alert on column acc_uuid,\n",
       " [HIGH_CARDINALITY] alert on column Name,\n",
       " [HIGH_CARDINALITY] alert on column Age,\n",
       " [HIGH_CARDINALITY] alert on column Person City/State,\n",
       " [HIGH_CARDINALITY] alert on column Date,\n",
       " [HIGH_CARDINALITY] alert on column Time,\n",
       " [HIGH_CARDINALITY] alert on column Crash County,\n",
       " [HIGH_CARDINALITY] alert on column Crash Location,\n",
       " [UNIFORM] alert on column raw_href,\n",
       " [UNIFORM] alert on column acc_rpt_num,\n",
       " [UNIFORM] alert on column acc_uuid,\n",
       " [UNIFORM] alert on column Crash Location,\n",
       " [UNIQUE] alert on column acc_uuid,\n",
       " [ZEROS] alert on column df_index]"
      ]
     },
     "execution_count": 17,
     "metadata": {},
     "output_type": "execute_result"
    }
   ],
   "source": [
    "# alerts look interesting\n",
    "desc_dct['alerts']"
   ]
  },
  {
   "cell_type": "code",
   "execution_count": null,
   "metadata": {},
   "outputs": [],
   "source": []
  }
 ],
 "metadata": {
  "kernelspec": {
   "display_name": "venv",
   "language": "python",
   "name": "python3"
  },
  "language_info": {
   "codemirror_mode": {
    "name": "ipython",
    "version": 3
   },
   "file_extension": ".py",
   "mimetype": "text/x-python",
   "name": "python",
   "nbconvert_exporter": "python",
   "pygments_lexer": "ipython3",
   "version": "3.10.9"
  },
  "orig_nbformat": 4,
  "vscode": {
   "interpreter": {
    "hash": "42dbac9a4c649d470d0cde79f5b558654f0f0b04e7c4aed4559e7bf230ccb35b"
   }
  }
 },
 "nbformat": 4,
 "nbformat_minor": 2
}
