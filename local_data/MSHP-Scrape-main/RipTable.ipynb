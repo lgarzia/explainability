{
 "cells": [
  {
   "cell_type": "code",
   "execution_count": 1,
   "metadata": {},
   "outputs": [],
   "source": [
    "#import dependencies \n",
    "import pandas as pd\n",
    "from bs4 import BeautifulSoup\n",
    "\n",
    "from splinter import Browser\n"
   ]
  },
  {
   "cell_type": "code",
   "execution_count": 2,
   "metadata": {},
   "outputs": [],
   "source": [
    "#set path for chrome driver\n",
    "executable_path = {\"executable_path\": \"chromedriver.exe\"}\n",
    "#create browser object , headless false because we want to see what is going on\n",
    "browser = Browser(\"chrome\", **executable_path, headless=False)\n",
    "\n",
    "# visit the url \n",
    "url = 'https://www.mshp.dps.missouri.gov/HP68/SearchAction'\n",
    "#call the browers and go to the url\n",
    "browser.visit(url)\n",
    "\n"
   ]
  },
  {
   "cell_type": "code",
   "execution_count": 3,
   "metadata": {},
   "outputs": [],
   "source": [
    "#find the drop down menu and go to fatal\n",
    "type_of_injury = browser.find_by_xpath(\"//*[@id='injuryType']/option[text()='Fatal']\").click()"
   ]
  },
  {
   "cell_type": "code",
   "execution_count": 4,
   "metadata": {},
   "outputs": [],
   "source": [
    "#click the submit button to search\n",
    "browser.find_by_xpath('//*[@id=\"searchTable\"]/tbody/tr[9]/td/input[1]').first.click()"
   ]
  },
  {
   "cell_type": "code",
   "execution_count": 5,
   "metadata": {},
   "outputs": [],
   "source": [
    "\n",
    "\n",
    "\n",
    "\n",
    "#the last item in the list is 588, so we are going to run the loop 589 times\n",
    "#(\"//*[@id='content']/table/tbody/tr[588]/td[1]/a\")\n",
    "#create blank list\n",
    "data = []\n",
    "\n",
    "\n",
    "# for loop, skip. Start at 1 because the first table element is 1 not 0 .We need the loop at start at 1 and not 0 . \n",
    "for i in range(1, 589):\n",
    "    #find the xpath and click it. start at element 1 in the table\n",
    "    browser.find_by_xpath(f\"//*[@id='content']/table/tbody/tr[{i}]/td[1]/a\").click()\n",
    "    #take all of the tables and add to the list \n",
    "    data.append(pd.read_html(browser.html)[0])\n",
    "    data.append(pd.read_html(browser.html)[1])\n",
    "    data.append(pd.read_html(browser.html)[2])\n",
    "    #tell the browser to go back. \n",
    "    browser.back()\n",
    "    \n",
    "    "
   ]
  },
  {
   "cell_type": "code",
   "execution_count": 30,
   "metadata": {},
   "outputs": [
    {
     "data": {
      "text/html": [
       "<div>\n",
       "<style scoped>\n",
       "    .dataframe tbody tr th:only-of-type {\n",
       "        vertical-align: middle;\n",
       "    }\n",
       "\n",
       "    .dataframe tbody tr th {\n",
       "        vertical-align: top;\n",
       "    }\n",
       "\n",
       "    .dataframe thead th {\n",
       "        text-align: right;\n",
       "    }\n",
       "</style>\n",
       "<table border=\"1\" class=\"dataframe\">\n",
       "  <thead>\n",
       "    <tr style=\"text-align: right;\">\n",
       "      <th></th>\n",
       "      <th>Investigated By</th>\n",
       "      <th>Incident#</th>\n",
       "      <th>GPS Latitude</th>\n",
       "      <th>GPS Longitude</th>\n",
       "      <th>Date</th>\n",
       "      <th>Time</th>\n",
       "      <th>County</th>\n",
       "      <th>Location</th>\n",
       "      <th>Troop</th>\n",
       "    </tr>\n",
       "  </thead>\n",
       "  <tbody>\n",
       "    <tr>\n",
       "      <td>0</td>\n",
       "      <td>TROOPER B.G. GROVES (837)</td>\n",
       "      <td>190734242</td>\n",
       "      <td>38.55666</td>\n",
       "      <td>-90.25912</td>\n",
       "      <td>12/19/2019</td>\n",
       "      <td>7:55PM</td>\n",
       "      <td>ST. LOUIS CITY</td>\n",
       "      <td>NORTHBOUND I-55 AT LOUGHBOROUGH AVENUE</td>\n",
       "      <td>C</td>\n",
       "    </tr>\n",
       "  </tbody>\n",
       "</table>\n",
       "</div>"
      ],
      "text/plain": [
       "             Investigated By  Incident#  GPS Latitude  GPS Longitude  \\\n",
       "0  TROOPER B.G. GROVES (837)  190734242      38.55666      -90.25912   \n",
       "\n",
       "         Date    Time          County                                Location  \\\n",
       "0  12/19/2019  7:55PM  ST. LOUIS CITY  NORTHBOUND I-55 AT LOUGHBOROUGH AVENUE   \n",
       "\n",
       "  Troop  \n",
       "0     C  "
      ]
     },
     "execution_count": 30,
     "metadata": {},
     "output_type": "execute_result"
    }
   ],
   "source": [
    "#take a look at the list\n",
    "data[0]"
   ]
  },
  {
   "cell_type": "code",
   "execution_count": 28,
   "metadata": {},
   "outputs": [],
   "source": [
    "#start at the first item in the list, and take every third item(the gps table)\n",
    "first = data[0::3]"
   ]
  },
  {
   "cell_type": "code",
   "execution_count": 38,
   "metadata": {},
   "outputs": [
    {
     "data": {
      "text/html": [
       "<div>\n",
       "<style scoped>\n",
       "    .dataframe tbody tr th:only-of-type {\n",
       "        vertical-align: middle;\n",
       "    }\n",
       "\n",
       "    .dataframe tbody tr th {\n",
       "        vertical-align: top;\n",
       "    }\n",
       "\n",
       "    .dataframe thead th {\n",
       "        text-align: right;\n",
       "    }\n",
       "</style>\n",
       "<table border=\"1\" class=\"dataframe\">\n",
       "  <thead>\n",
       "    <tr style=\"text-align: right;\">\n",
       "      <th></th>\n",
       "      <th>Investigated By</th>\n",
       "      <th>Incident#</th>\n",
       "      <th>GPS Latitude</th>\n",
       "      <th>GPS Longitude</th>\n",
       "      <th>Date</th>\n",
       "      <th>Time</th>\n",
       "      <th>County</th>\n",
       "      <th>Location</th>\n",
       "      <th>Troop</th>\n",
       "    </tr>\n",
       "  </thead>\n",
       "  <tbody>\n",
       "    <tr>\n",
       "      <td>0</td>\n",
       "      <td>TPR. L. WILSON #1178</td>\n",
       "      <td>190728475</td>\n",
       "      <td>36.814028</td>\n",
       "      <td>-93.834333</td>\n",
       "      <td>12/16/2019</td>\n",
       "      <td>3:10PM</td>\n",
       "      <td>BARRY</td>\n",
       "      <td>HWY C 5.5 MILES EAST OF PURDY MO</td>\n",
       "      <td>D</td>\n",
       "    </tr>\n",
       "  </tbody>\n",
       "</table>\n",
       "</div>"
      ],
      "text/plain": [
       "        Investigated By  Incident#  GPS Latitude  GPS Longitude        Date  \\\n",
       "0  TPR. L. WILSON #1178  190728475     36.814028     -93.834333  12/16/2019   \n",
       "\n",
       "     Time County                          Location Troop  \n",
       "0  3:10PM  BARRY  HWY C 5.5 MILES EAST OF PURDY MO     D  "
      ]
     },
     "execution_count": 38,
     "metadata": {},
     "output_type": "execute_result"
    }
   ],
   "source": [
    "#check to make sure we have the right info \n",
    "first[3]"
   ]
  },
  {
   "cell_type": "code",
   "execution_count": 23,
   "metadata": {},
   "outputs": [
    {
     "data": {
      "text/plain": [
       "1764"
      ]
     },
     "execution_count": 23,
     "metadata": {},
     "output_type": "execute_result"
    }
   ],
   "source": [
    "#find the length of the total list \n",
    "len(data)"
   ]
  },
  {
   "cell_type": "code",
   "execution_count": 31,
   "metadata": {},
   "outputs": [],
   "source": [
    "#start at the second item in the list, and take every third item(the vehicle description)\n",
    "second = data[1::3]"
   ]
  },
  {
   "cell_type": "code",
   "execution_count": 43,
   "metadata": {},
   "outputs": [
    {
     "data": {
      "text/html": [
       "<div>\n",
       "<style scoped>\n",
       "    .dataframe tbody tr th:only-of-type {\n",
       "        vertical-align: middle;\n",
       "    }\n",
       "\n",
       "    .dataframe tbody tr th {\n",
       "        vertical-align: top;\n",
       "    }\n",
       "\n",
       "    .dataframe thead th {\n",
       "        text-align: right;\n",
       "    }\n",
       "</style>\n",
       "<table border=\"1\" class=\"dataframe\">\n",
       "  <thead>\n",
       "    <tr style=\"text-align: right;\">\n",
       "      <th></th>\n",
       "      <th>Veh. #</th>\n",
       "      <th>Vehicle Description</th>\n",
       "      <th>Damage</th>\n",
       "      <th>Disposition</th>\n",
       "      <th>Driver Name</th>\n",
       "      <th>Driver Gender</th>\n",
       "      <th>Driver Age</th>\n",
       "      <th>Safety Device</th>\n",
       "      <th>Driver City/State</th>\n",
       "      <th>Driver Insurance</th>\n",
       "      <th>Vehicle Direction</th>\n",
       "    </tr>\n",
       "  </thead>\n",
       "  <tbody>\n",
       "    <tr>\n",
       "      <td>0</td>\n",
       "      <td>1</td>\n",
       "      <td>2005 JEEP LIBERTY</td>\n",
       "      <td>TOTAL</td>\n",
       "      <td>TOWED BY/TO BUCKLEY'S TOWING</td>\n",
       "      <td>DEL PERCIO JR, MICHAEL J</td>\n",
       "      <td>MALE</td>\n",
       "      <td>53</td>\n",
       "      <td>YES</td>\n",
       "      <td>FESTUS, MO</td>\n",
       "      <td>LIBERTY MUTUAL</td>\n",
       "      <td>SOUTHBOUND</td>\n",
       "    </tr>\n",
       "    <tr>\n",
       "      <td>1</td>\n",
       "      <td>2</td>\n",
       "      <td>2004 CHEVROLET MALIBU</td>\n",
       "      <td>MINOR</td>\n",
       "      <td>TOWED BY/TO BUCKLEY'S TOWING</td>\n",
       "      <td>NO DRIVER, NO DRIVER</td>\n",
       "      <td>UNKNOWN</td>\n",
       "      <td>UNK</td>\n",
       "      <td>UNKNOWN</td>\n",
       "      <td>NaN</td>\n",
       "      <td>AMERICAN FAMILY</td>\n",
       "      <td>SOUTHBOUND</td>\n",
       "    </tr>\n",
       "  </tbody>\n",
       "</table>\n",
       "</div>"
      ],
      "text/plain": [
       "   Veh. #    Vehicle Description Damage                   Disposition  \\\n",
       "0       1      2005 JEEP LIBERTY  TOTAL  TOWED BY/TO BUCKLEY'S TOWING   \n",
       "1       2  2004 CHEVROLET MALIBU  MINOR  TOWED BY/TO BUCKLEY'S TOWING   \n",
       "\n",
       "                Driver Name Driver Gender Driver Age Safety Device  \\\n",
       "0  DEL PERCIO JR, MICHAEL J          MALE         53           YES   \n",
       "1      NO DRIVER, NO DRIVER       UNKNOWN        UNK       UNKNOWN   \n",
       "\n",
       "  Driver City/State Driver Insurance Vehicle Direction  \n",
       "0        FESTUS, MO   LIBERTY MUTUAL        SOUTHBOUND  \n",
       "1               NaN  AMERICAN FAMILY        SOUTHBOUND  "
      ]
     },
     "execution_count": 43,
     "metadata": {},
     "output_type": "execute_result"
    }
   ],
   "source": [
    "#check the data \n",
    "second[4]"
   ]
  },
  {
   "cell_type": "code",
   "execution_count": 33,
   "metadata": {},
   "outputs": [],
   "source": [
    "#start at the third item in the list, and take every third item(the injury section)\n",
    "third = data[2::3]"
   ]
  },
  {
   "cell_type": "code",
   "execution_count": 51,
   "metadata": {},
   "outputs": [
    {
     "data": {
      "text/html": [
       "<div>\n",
       "<style scoped>\n",
       "    .dataframe tbody tr th:only-of-type {\n",
       "        vertical-align: middle;\n",
       "    }\n",
       "\n",
       "    .dataframe tbody tr th {\n",
       "        vertical-align: top;\n",
       "    }\n",
       "\n",
       "    .dataframe thead th {\n",
       "        text-align: right;\n",
       "    }\n",
       "</style>\n",
       "<table border=\"1\" class=\"dataframe\">\n",
       "  <thead>\n",
       "    <tr style=\"text-align: right;\">\n",
       "      <th></th>\n",
       "      <th>Veh. #</th>\n",
       "      <th>Name</th>\n",
       "      <th>Gender</th>\n",
       "      <th>Age</th>\n",
       "      <th>Injury Type</th>\n",
       "      <th>Safety Device</th>\n",
       "      <th>City/State</th>\n",
       "      <th>Involvement</th>\n",
       "      <th>Disposition</th>\n",
       "    </tr>\n",
       "  </thead>\n",
       "  <tbody>\n",
       "    <tr>\n",
       "      <td>0</td>\n",
       "      <td>1</td>\n",
       "      <td>JUVENILE</td>\n",
       "      <td>MALE</td>\n",
       "      <td>3</td>\n",
       "      <td>FATAL</td>\n",
       "      <td>YES</td>\n",
       "      <td>SELIGMAN, MO</td>\n",
       "      <td>OCCUPANT</td>\n",
       "      <td>MERCY HOSPITAL IN SPRINGFIELD, MO</td>\n",
       "    </tr>\n",
       "    <tr>\n",
       "      <td>1</td>\n",
       "      <td>2</td>\n",
       "      <td>JUVENILE</td>\n",
       "      <td>FEMALE</td>\n",
       "      <td>12</td>\n",
       "      <td>MINOR</td>\n",
       "      <td>YES</td>\n",
       "      <td>ROGERSVILLE, MO</td>\n",
       "      <td>OCCUPANT</td>\n",
       "      <td>MERCY HOSPITAL IN CASSVILLE</td>\n",
       "    </tr>\n",
       "    <tr>\n",
       "      <td>2</td>\n",
       "      <td>2</td>\n",
       "      <td>THOMPSON, PATRICIA M</td>\n",
       "      <td>FEMALE</td>\n",
       "      <td>33</td>\n",
       "      <td>MINOR</td>\n",
       "      <td>YES</td>\n",
       "      <td>ROGERSVILLE, MO</td>\n",
       "      <td>OCCUPANT</td>\n",
       "      <td>MERCY HOSPITAL IN CASSVILLE</td>\n",
       "    </tr>\n",
       "  </tbody>\n",
       "</table>\n",
       "</div>"
      ],
      "text/plain": [
       "   Veh. #                  Name  Gender  Age Injury Type Safety Device  \\\n",
       "0       1              JUVENILE    MALE    3       FATAL           YES   \n",
       "1       2              JUVENILE  FEMALE   12       MINOR           YES   \n",
       "2       2  THOMPSON, PATRICIA M  FEMALE   33       MINOR           YES   \n",
       "\n",
       "        City/State Involvement                        Disposition  \n",
       "0     SELIGMAN, MO    OCCUPANT  MERCY HOSPITAL IN SPRINGFIELD, MO  \n",
       "1  ROGERSVILLE, MO    OCCUPANT        MERCY HOSPITAL IN CASSVILLE  \n",
       "2  ROGERSVILLE, MO    OCCUPANT        MERCY HOSPITAL IN CASSVILLE  "
      ]
     },
     "execution_count": 51,
     "metadata": {},
     "output_type": "execute_result"
    }
   ],
   "source": [
    "#check the data \n",
    "third[7]"
   ]
  },
  {
   "cell_type": "code",
   "execution_count": 56,
   "metadata": {},
   "outputs": [],
   "source": [
    "#create a blank dataframe for table 1\n",
    "df_gps = pd.DataFrame( columns = [\"Investigated By\", \"Incident#\", \"GPS Latitude\", \"GPS Longitude\", \"Date\", \"Time\", \"County\", \"Location\", \"Troop\"])"
   ]
  },
  {
   "cell_type": "code",
   "execution_count": 57,
   "metadata": {},
   "outputs": [],
   "source": [
    "#create a blank dataframe for table 2\n",
    "df_vehicle = pd.DataFrame( columns = [\"Veh. #\", \"Vehicle Description\", \"Damage\", \"Disposition\", \"Driver Name\", \"Driver Gender\", \"Driver Age\", \"Safety Device\", \"Driver City/State\", \"Driver Insurance\", \"Vehicle Direction\"])"
   ]
  },
  {
   "cell_type": "code",
   "execution_count": 58,
   "metadata": {},
   "outputs": [],
   "source": [
    "#create a blank dataframe for table 3\n",
    "df_injury = pd.DataFrame( columns = [\"Veh. #\", \"Name\", \"Gender\", \"Age\", \"Injury Type\", \"Safety Device\", \"City/State\", \"Involvement\", \"Disposition\"])"
   ]
  },
  {
   "cell_type": "code",
   "execution_count": 59,
   "metadata": {},
   "outputs": [],
   "source": [
    "#append our list to the df\n",
    "df_gps = df_gps.append(first, sort=True)\n",
    "df_vehicle = df_vehicle.append(second, sort=True)\n",
    "df_injury = df_injury.append(third, sort=True)"
   ]
  },
  {
   "cell_type": "code",
   "execution_count": null,
   "metadata": {},
   "outputs": [],
   "source": [
    "#view the new df\n",
    "df_vehicle\n"
   ]
  },
  {
   "cell_type": "code",
   "execution_count": 48,
   "metadata": {},
   "outputs": [],
   "source": [
    "#save to csv\n",
    "df_gps.to_csv(r'gps.csv', index = None, header=True)\n",
    "df_vehicle.to_csv(r'vehicles.csv', index = None, header=True)\n",
    "df_injury.to_csv(r'injury.csv', index = None, header=True)"
   ]
  },
  {
   "cell_type": "code",
   "execution_count": 18,
   "metadata": {},
   "outputs": [],
   "source": []
  },
  {
   "cell_type": "code",
   "execution_count": null,
   "metadata": {},
   "outputs": [],
   "source": []
  }
 ],
 "metadata": {
  "kernelspec": {
   "display_name": "Python 3",
   "language": "python",
   "name": "python3"
  },
  "language_info": {
   "codemirror_mode": {
    "name": "ipython",
    "version": 3
   },
   "file_extension": ".py",
   "mimetype": "text/x-python",
   "name": "python",
   "nbconvert_exporter": "python",
   "pygments_lexer": "ipython3",
   "version": "3.7.4"
  }
 },
 "nbformat": 4,
 "nbformat_minor": 2
}
