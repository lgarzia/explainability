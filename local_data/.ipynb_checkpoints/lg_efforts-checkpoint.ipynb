{
 "cells": [
  {
   "cell_type": "code",
   "execution_count": 32,
   "id": "56df4ecb",
   "metadata": {},
   "outputs": [],
   "source": [
    "import pandas as pd\n",
    "from bs4 import BeautifulSoup\n",
    "from splinter import Browser\n",
    "import datetime "
   ]
  },
  {
   "cell_type": "code",
   "execution_count": 2,
   "id": "3f4498c7",
   "metadata": {},
   "outputs": [],
   "source": [
    "from selenium.webdriver.chrome.service import Service"
   ]
  },
  {
   "cell_type": "code",
   "execution_count": 3,
   "id": "4e2c1512",
   "metadata": {},
   "outputs": [],
   "source": [
    "my_service = Service(executable_path='./chromedriver.exe')\n",
    "browser = Browser('chrome', service=my_service)"
   ]
  },
  {
   "cell_type": "code",
   "execution_count": 4,
   "id": "12a9dc82",
   "metadata": {},
   "outputs": [],
   "source": [
    "# visit the url \n",
    "url = 'https://www.mshp.dps.missouri.gov/HP68/SearchAction'\n",
    "#call the browers and go to the url\n",
    "browser.visit(url)"
   ]
  },
  {
   "cell_type": "code",
   "execution_count": 38,
   "id": "e3b2e297",
   "metadata": {},
   "outputs": [],
   "source": [
    "# Effort - extract list of dates\n",
    "date_list = [(d.text, datetime.datetime.strptime(d.text, \"%B %d, %Y\")) for d in browser.find_by_xpath(\"//*[@id='date']/option\") if d.text !='']"
   ]
  },
  {
   "cell_type": "code",
   "execution_count": 42,
   "id": "7b235c7d",
   "metadata": {},
   "outputs": [],
   "source": [
    "dates_desc = sorted(date_list, key=lambda x: x[1], reverse=False)"
   ]
  },
  {
   "cell_type": "code",
   "execution_count": 46,
   "id": "5f929789",
   "metadata": {},
   "outputs": [],
   "source": [
    "d = dates_desc[1]"
   ]
  },
  {
   "cell_type": "code",
   "execution_count": 48,
   "id": "b7d41ec4",
   "metadata": {},
   "outputs": [],
   "source": [
    "browser.find_by_value('Search').click()"
   ]
  },
  {
   "cell_type": "code",
   "execution_count": 55,
   "id": "72b43002",
   "metadata": {},
   "outputs": [],
   "source": [
    "table_list = pd.read_html(browser.html)"
   ]
  },
  {
   "cell_type": "code",
   "execution_count": 56,
   "id": "9a2d6bb8",
   "metadata": {},
   "outputs": [],
   "source": [
    "assert len(table_list) == 1"
   ]
  },
  {
   "cell_type": "code",
   "execution_count": 92,
   "id": "e8056a1c",
   "metadata": {},
   "outputs": [],
   "source": [
    "df_crsh_rpt_list = table_list[0]"
   ]
  },
  {
   "cell_type": "code",
   "execution_count": 93,
   "id": "9f9c79b8",
   "metadata": {},
   "outputs": [
    {
     "data": {
      "text/html": [
       "<div>\n",
       "<style scoped>\n",
       "    .dataframe tbody tr th:only-of-type {\n",
       "        vertical-align: middle;\n",
       "    }\n",
       "\n",
       "    .dataframe tbody tr th {\n",
       "        vertical-align: top;\n",
       "    }\n",
       "\n",
       "    .dataframe thead th {\n",
       "        text-align: right;\n",
       "    }\n",
       "</style>\n",
       "<table border=\"1\" class=\"dataframe\">\n",
       "  <thead>\n",
       "    <tr style=\"text-align: right;\">\n",
       "      <th></th>\n",
       "      <th>Report</th>\n",
       "      <th>Name</th>\n",
       "      <th>Age</th>\n",
       "      <th>Person City/State</th>\n",
       "      <th>Personal Injury</th>\n",
       "      <th>Safety Device</th>\n",
       "      <th>Date</th>\n",
       "      <th>Time</th>\n",
       "      <th>Crash County</th>\n",
       "      <th>Crash Location</th>\n",
       "      <th>Troop</th>\n",
       "    </tr>\n",
       "  </thead>\n",
       "  <tbody>\n",
       "    <tr>\n",
       "      <th>0</th>\n",
       "      <td>View</td>\n",
       "      <td>MILLER, KATHLEEN S</td>\n",
       "      <td>68</td>\n",
       "      <td>HARRISON, AR</td>\n",
       "      <td>SERIOUS</td>\n",
       "      <td>YES</td>\n",
       "      <td>03/07/2022</td>\n",
       "      <td>9:15PM</td>\n",
       "      <td>CRAWFORD</td>\n",
       "      <td>WESTBOUND I-44 AT THE 201 MILE MARKER</td>\n",
       "      <td>I</td>\n",
       "    </tr>\n",
       "    <tr>\n",
       "      <th>1</th>\n",
       "      <td>View</td>\n",
       "      <td>WIENING, JAMES D</td>\n",
       "      <td>50</td>\n",
       "      <td>BLYTHEVILLE, AR</td>\n",
       "      <td>FATAL</td>\n",
       "      <td>YES</td>\n",
       "      <td>03/07/2022</td>\n",
       "      <td>9:15PM</td>\n",
       "      <td>CRAWFORD</td>\n",
       "      <td>WESTBOUND I-44 AT THE 201 MILE MARKER</td>\n",
       "      <td>I</td>\n",
       "    </tr>\n",
       "    <tr>\n",
       "      <th>2</th>\n",
       "      <td>View</td>\n",
       "      <td>STALLINGS, MARK D</td>\n",
       "      <td>63</td>\n",
       "      <td>FOUR SEASONS, MO</td>\n",
       "      <td>MODERATE</td>\n",
       "      <td>YES</td>\n",
       "      <td>03/07/2022</td>\n",
       "      <td>4:59PM</td>\n",
       "      <td>COLE</td>\n",
       "      <td>US 54 WESTBOUND APPROXIMATELY 36 FEET WEST OF ...</td>\n",
       "      <td>F</td>\n",
       "    </tr>\n",
       "    <tr>\n",
       "      <th>3</th>\n",
       "      <td>View</td>\n",
       "      <td>GAVIGAN, DILLAN T</td>\n",
       "      <td>18</td>\n",
       "      <td>SHERIDAN, MO</td>\n",
       "      <td>SERIOUS</td>\n",
       "      <td>NO</td>\n",
       "      <td>03/07/2022</td>\n",
       "      <td>4:41PM</td>\n",
       "      <td>WORTH</td>\n",
       "      <td>WALNUT ST EAST OF MO 246 IN SHERIDAN</td>\n",
       "      <td>H</td>\n",
       "    </tr>\n",
       "    <tr>\n",
       "      <th>4</th>\n",
       "      <td>View</td>\n",
       "      <td>JUVENILE,</td>\n",
       "      <td>13</td>\n",
       "      <td>SHERIDAN, MO</td>\n",
       "      <td>MODERATE</td>\n",
       "      <td>NO</td>\n",
       "      <td>03/07/2022</td>\n",
       "      <td>4:41PM</td>\n",
       "      <td>WORTH</td>\n",
       "      <td>WALNUT ST EAST OF MO 246 IN SHERIDAN</td>\n",
       "      <td>H</td>\n",
       "    </tr>\n",
       "  </tbody>\n",
       "</table>\n",
       "</div>"
      ],
      "text/plain": [
       "  Report                Name  Age Person City/State Personal Injury  \\\n",
       "0   View  MILLER, KATHLEEN S   68      HARRISON, AR         SERIOUS   \n",
       "1   View    WIENING, JAMES D   50   BLYTHEVILLE, AR           FATAL   \n",
       "2   View   STALLINGS, MARK D   63  FOUR SEASONS, MO        MODERATE   \n",
       "3   View   GAVIGAN, DILLAN T   18      SHERIDAN, MO         SERIOUS   \n",
       "4   View           JUVENILE,   13      SHERIDAN, MO        MODERATE   \n",
       "\n",
       "  Safety Device        Date    Time Crash County  \\\n",
       "0           YES  03/07/2022  9:15PM     CRAWFORD   \n",
       "1           YES  03/07/2022  9:15PM     CRAWFORD   \n",
       "2           YES  03/07/2022  4:59PM         COLE   \n",
       "3            NO  03/07/2022  4:41PM        WORTH   \n",
       "4            NO  03/07/2022  4:41PM        WORTH   \n",
       "\n",
       "                                      Crash Location Troop  \n",
       "0              WESTBOUND I-44 AT THE 201 MILE MARKER     I  \n",
       "1              WESTBOUND I-44 AT THE 201 MILE MARKER     I  \n",
       "2  US 54 WESTBOUND APPROXIMATELY 36 FEET WEST OF ...     F  \n",
       "3               WALNUT ST EAST OF MO 246 IN SHERIDAN     H  \n",
       "4               WALNUT ST EAST OF MO 246 IN SHERIDAN     H  "
      ]
     },
     "execution_count": 93,
     "metadata": {},
     "output_type": "execute_result"
    }
   ],
   "source": [
    "df_crsh_rpt_list.head()\n",
    "# Objective - need to create a key to tie Crash Report List with Report"
   ]
  },
  {
   "cell_type": "code",
   "execution_count": 101,
   "id": "55482f2b",
   "metadata": {},
   "outputs": [],
   "source": [
    "anchors = browser.find_by_tag(\"table\").links.find_by_text('View')"
   ]
  },
  {
   "cell_type": "code",
   "execution_count": 94,
   "id": "80d8ff04",
   "metadata": {},
   "outputs": [],
   "source": [
    "assert len(anchors) == df_crsh_rpt_list.shape[0]"
   ]
  },
  {
   "cell_type": "code",
   "execution_count": 97,
   "id": "c27d654c",
   "metadata": {},
   "outputs": [
    {
     "data": {
      "text/html": [
       "<div>\n",
       "<style scoped>\n",
       "    .dataframe tbody tr th:only-of-type {\n",
       "        vertical-align: middle;\n",
       "    }\n",
       "\n",
       "    .dataframe tbody tr th {\n",
       "        vertical-align: top;\n",
       "    }\n",
       "\n",
       "    .dataframe thead th {\n",
       "        text-align: right;\n",
       "    }\n",
       "</style>\n",
       "<table border=\"1\" class=\"dataframe\">\n",
       "  <thead>\n",
       "    <tr style=\"text-align: right;\">\n",
       "      <th></th>\n",
       "      <th>raw_href</th>\n",
       "      <th>acc_rpt_num</th>\n",
       "      <th>acc_uuid</th>\n",
       "    </tr>\n",
       "  </thead>\n",
       "  <tbody>\n",
       "    <tr>\n",
       "      <th>0</th>\n",
       "      <td>https://www.mshp.dps.missouri.gov/HP68/Acciden...</td>\n",
       "      <td>220116287</td>\n",
       "      <td>adc97c5b-3990-4b15-b78b-4c7706da994f</td>\n",
       "    </tr>\n",
       "    <tr>\n",
       "      <th>1</th>\n",
       "      <td>https://www.mshp.dps.missouri.gov/HP68/Acciden...</td>\n",
       "      <td>220116287</td>\n",
       "      <td>01c624ef-1198-4ac4-9149-86b648a24784</td>\n",
       "    </tr>\n",
       "    <tr>\n",
       "      <th>2</th>\n",
       "      <td>https://www.mshp.dps.missouri.gov/HP68/Acciden...</td>\n",
       "      <td>220115939</td>\n",
       "      <td>9887bb70-40e6-4845-bc4f-47ad09165c77</td>\n",
       "    </tr>\n",
       "    <tr>\n",
       "      <th>3</th>\n",
       "      <td>https://www.mshp.dps.missouri.gov/HP68/Acciden...</td>\n",
       "      <td>220115911</td>\n",
       "      <td>29d71a0c-b9b5-4ec8-8f04-aab27c73d699</td>\n",
       "    </tr>\n",
       "    <tr>\n",
       "      <th>4</th>\n",
       "      <td>https://www.mshp.dps.missouri.gov/HP68/Acciden...</td>\n",
       "      <td>220115911</td>\n",
       "      <td>f8e85eeb-ebca-4079-92bc-be34284ee287</td>\n",
       "    </tr>\n",
       "  </tbody>\n",
       "</table>\n",
       "</div>"
      ],
      "text/plain": [
       "                                            raw_href acc_rpt_num  \\\n",
       "0  https://www.mshp.dps.missouri.gov/HP68/Acciden...   220116287   \n",
       "1  https://www.mshp.dps.missouri.gov/HP68/Acciden...   220116287   \n",
       "2  https://www.mshp.dps.missouri.gov/HP68/Acciden...   220115939   \n",
       "3  https://www.mshp.dps.missouri.gov/HP68/Acciden...   220115911   \n",
       "4  https://www.mshp.dps.missouri.gov/HP68/Acciden...   220115911   \n",
       "\n",
       "                               acc_uuid  \n",
       "0  adc97c5b-3990-4b15-b78b-4c7706da994f  \n",
       "1  01c624ef-1198-4ac4-9149-86b648a24784  \n",
       "2  9887bb70-40e6-4845-bc4f-47ad09165c77  \n",
       "3  29d71a0c-b9b5-4ec8-8f04-aab27c73d699  \n",
       "4  f8e85eeb-ebca-4079-92bc-be34284ee287  "
      ]
     },
     "execution_count": 97,
     "metadata": {},
     "output_type": "execute_result"
    }
   ],
   "source": [
    "import uuid\n",
    "append_key_data = []\n",
    "for a in anchors:\n",
    "    append_key_data.append((a['href'], a['href'].split('=')[-1], str(uuid.uuid4())))\n",
    "#raw_link_name = anchors[0]['href']\n",
    "#acc_rpt_num = raw_link_name.split('=')[-1]\n",
    "df_crsh_rpt_keys = pd.DataFrame(data=append_key_data, columns=['raw_href', 'acc_rpt_num', 'acc_uuid'])\n",
    "df_crsh_rpt_keys.head()"
   ]
  },
  {
   "cell_type": "code",
   "execution_count": 98,
   "id": "9c887518",
   "metadata": {},
   "outputs": [],
   "source": [
    "df_crsh_rpt_full = pd.merge(df_crsh_rpt_keys, df_crsh_rpt_list, left_index=True, right_index=True)"
   ]
  },
  {
   "cell_type": "code",
   "execution_count": 99,
   "id": "b39d2aa0",
   "metadata": {
    "scrolled": true
   },
   "outputs": [
    {
     "data": {
      "text/html": [
       "<div>\n",
       "<style scoped>\n",
       "    .dataframe tbody tr th:only-of-type {\n",
       "        vertical-align: middle;\n",
       "    }\n",
       "\n",
       "    .dataframe tbody tr th {\n",
       "        vertical-align: top;\n",
       "    }\n",
       "\n",
       "    .dataframe thead th {\n",
       "        text-align: right;\n",
       "    }\n",
       "</style>\n",
       "<table border=\"1\" class=\"dataframe\">\n",
       "  <thead>\n",
       "    <tr style=\"text-align: right;\">\n",
       "      <th></th>\n",
       "      <th>raw_href</th>\n",
       "      <th>acc_rpt_num</th>\n",
       "      <th>acc_uuid</th>\n",
       "      <th>Report</th>\n",
       "      <th>Name</th>\n",
       "      <th>Age</th>\n",
       "      <th>Person City/State</th>\n",
       "      <th>Personal Injury</th>\n",
       "      <th>Safety Device</th>\n",
       "      <th>Date</th>\n",
       "      <th>Time</th>\n",
       "      <th>Crash County</th>\n",
       "      <th>Crash Location</th>\n",
       "      <th>Troop</th>\n",
       "    </tr>\n",
       "  </thead>\n",
       "  <tbody>\n",
       "    <tr>\n",
       "      <th>0</th>\n",
       "      <td>https://www.mshp.dps.missouri.gov/HP68/Acciden...</td>\n",
       "      <td>220116287</td>\n",
       "      <td>adc97c5b-3990-4b15-b78b-4c7706da994f</td>\n",
       "      <td>View</td>\n",
       "      <td>MILLER, KATHLEEN S</td>\n",
       "      <td>68</td>\n",
       "      <td>HARRISON, AR</td>\n",
       "      <td>SERIOUS</td>\n",
       "      <td>YES</td>\n",
       "      <td>03/07/2022</td>\n",
       "      <td>9:15PM</td>\n",
       "      <td>CRAWFORD</td>\n",
       "      <td>WESTBOUND I-44 AT THE 201 MILE MARKER</td>\n",
       "      <td>I</td>\n",
       "    </tr>\n",
       "    <tr>\n",
       "      <th>1</th>\n",
       "      <td>https://www.mshp.dps.missouri.gov/HP68/Acciden...</td>\n",
       "      <td>220116287</td>\n",
       "      <td>01c624ef-1198-4ac4-9149-86b648a24784</td>\n",
       "      <td>View</td>\n",
       "      <td>WIENING, JAMES D</td>\n",
       "      <td>50</td>\n",
       "      <td>BLYTHEVILLE, AR</td>\n",
       "      <td>FATAL</td>\n",
       "      <td>YES</td>\n",
       "      <td>03/07/2022</td>\n",
       "      <td>9:15PM</td>\n",
       "      <td>CRAWFORD</td>\n",
       "      <td>WESTBOUND I-44 AT THE 201 MILE MARKER</td>\n",
       "      <td>I</td>\n",
       "    </tr>\n",
       "    <tr>\n",
       "      <th>2</th>\n",
       "      <td>https://www.mshp.dps.missouri.gov/HP68/Acciden...</td>\n",
       "      <td>220115939</td>\n",
       "      <td>9887bb70-40e6-4845-bc4f-47ad09165c77</td>\n",
       "      <td>View</td>\n",
       "      <td>STALLINGS, MARK D</td>\n",
       "      <td>63</td>\n",
       "      <td>FOUR SEASONS, MO</td>\n",
       "      <td>MODERATE</td>\n",
       "      <td>YES</td>\n",
       "      <td>03/07/2022</td>\n",
       "      <td>4:59PM</td>\n",
       "      <td>COLE</td>\n",
       "      <td>US 54 WESTBOUND APPROXIMATELY 36 FEET WEST OF ...</td>\n",
       "      <td>F</td>\n",
       "    </tr>\n",
       "    <tr>\n",
       "      <th>3</th>\n",
       "      <td>https://www.mshp.dps.missouri.gov/HP68/Acciden...</td>\n",
       "      <td>220115911</td>\n",
       "      <td>29d71a0c-b9b5-4ec8-8f04-aab27c73d699</td>\n",
       "      <td>View</td>\n",
       "      <td>GAVIGAN, DILLAN T</td>\n",
       "      <td>18</td>\n",
       "      <td>SHERIDAN, MO</td>\n",
       "      <td>SERIOUS</td>\n",
       "      <td>NO</td>\n",
       "      <td>03/07/2022</td>\n",
       "      <td>4:41PM</td>\n",
       "      <td>WORTH</td>\n",
       "      <td>WALNUT ST EAST OF MO 246 IN SHERIDAN</td>\n",
       "      <td>H</td>\n",
       "    </tr>\n",
       "    <tr>\n",
       "      <th>4</th>\n",
       "      <td>https://www.mshp.dps.missouri.gov/HP68/Acciden...</td>\n",
       "      <td>220115911</td>\n",
       "      <td>f8e85eeb-ebca-4079-92bc-be34284ee287</td>\n",
       "      <td>View</td>\n",
       "      <td>JUVENILE,</td>\n",
       "      <td>13</td>\n",
       "      <td>SHERIDAN, MO</td>\n",
       "      <td>MODERATE</td>\n",
       "      <td>NO</td>\n",
       "      <td>03/07/2022</td>\n",
       "      <td>4:41PM</td>\n",
       "      <td>WORTH</td>\n",
       "      <td>WALNUT ST EAST OF MO 246 IN SHERIDAN</td>\n",
       "      <td>H</td>\n",
       "    </tr>\n",
       "  </tbody>\n",
       "</table>\n",
       "</div>"
      ],
      "text/plain": [
       "                                            raw_href acc_rpt_num  \\\n",
       "0  https://www.mshp.dps.missouri.gov/HP68/Acciden...   220116287   \n",
       "1  https://www.mshp.dps.missouri.gov/HP68/Acciden...   220116287   \n",
       "2  https://www.mshp.dps.missouri.gov/HP68/Acciden...   220115939   \n",
       "3  https://www.mshp.dps.missouri.gov/HP68/Acciden...   220115911   \n",
       "4  https://www.mshp.dps.missouri.gov/HP68/Acciden...   220115911   \n",
       "\n",
       "                               acc_uuid Report                Name  Age  \\\n",
       "0  adc97c5b-3990-4b15-b78b-4c7706da994f   View  MILLER, KATHLEEN S   68   \n",
       "1  01c624ef-1198-4ac4-9149-86b648a24784   View    WIENING, JAMES D   50   \n",
       "2  9887bb70-40e6-4845-bc4f-47ad09165c77   View   STALLINGS, MARK D   63   \n",
       "3  29d71a0c-b9b5-4ec8-8f04-aab27c73d699   View   GAVIGAN, DILLAN T   18   \n",
       "4  f8e85eeb-ebca-4079-92bc-be34284ee287   View           JUVENILE,   13   \n",
       "\n",
       "  Person City/State Personal Injury Safety Device        Date    Time  \\\n",
       "0      HARRISON, AR         SERIOUS           YES  03/07/2022  9:15PM   \n",
       "1   BLYTHEVILLE, AR           FATAL           YES  03/07/2022  9:15PM   \n",
       "2  FOUR SEASONS, MO        MODERATE           YES  03/07/2022  4:59PM   \n",
       "3      SHERIDAN, MO         SERIOUS            NO  03/07/2022  4:41PM   \n",
       "4      SHERIDAN, MO        MODERATE            NO  03/07/2022  4:41PM   \n",
       "\n",
       "  Crash County                                     Crash Location Troop  \n",
       "0     CRAWFORD              WESTBOUND I-44 AT THE 201 MILE MARKER     I  \n",
       "1     CRAWFORD              WESTBOUND I-44 AT THE 201 MILE MARKER     I  \n",
       "2         COLE  US 54 WESTBOUND APPROXIMATELY 36 FEET WEST OF ...     F  \n",
       "3        WORTH               WALNUT ST EAST OF MO 246 IN SHERIDAN     H  \n",
       "4        WORTH               WALNUT ST EAST OF MO 246 IN SHERIDAN     H  "
      ]
     },
     "execution_count": 99,
     "metadata": {},
     "output_type": "execute_result"
    }
   ],
   "source": [
    "df_crsh_rpt_full.head()"
   ]
  },
  {
   "cell_type": "code",
   "execution_count": 102,
   "id": "13ee1d60",
   "metadata": {},
   "outputs": [],
   "source": [
    "# run report\n",
    "anchors[0].click()"
   ]
  },
  {
   "cell_type": "code",
   "execution_count": 103,
   "id": "16b27251",
   "metadata": {},
   "outputs": [],
   "source": [
    "# Variable number of tables - need to extract tables and table names\n",
    "tables = browser.find_by_tag(\"table\")"
   ]
  },
  {
   "cell_type": "code",
   "execution_count": 105,
   "id": "874179fa",
   "metadata": {},
   "outputs": [
    {
     "data": {
      "text/plain": [
       "'Crash Information'"
      ]
     },
     "execution_count": 105,
     "metadata": {},
     "output_type": "execute_result"
    }
   ],
   "source": [
    "tables[0].find_by_tag(\"caption\").text"
   ]
  },
  {
   "cell_type": "code",
   "execution_count": 112,
   "id": "8ac372c4",
   "metadata": {},
   "outputs": [
    {
     "name": "stdout",
     "output_type": "stream",
     "text": [
      "['crash_information', 'vehicle_information', 'injury_information', 'misc__information']\n"
     ]
    }
   ],
   "source": [
    "table_names = [str.lower(t.find_by_tag(\"caption\").text).replace(' ', '_').replace('.', '_') for t in tables]\n",
    "print(table_names)"
   ]
  },
  {
   "cell_type": "code",
   "execution_count": 109,
   "id": "87952f2a",
   "metadata": {},
   "outputs": [],
   "source": [
    "df_table_list = pd.read_html(browser.html)"
   ]
  },
  {
   "cell_type": "code",
   "execution_count": 120,
   "id": "6da7212f",
   "metadata": {},
   "outputs": [
    {
     "name": "stdout",
     "output_type": "stream",
     "text": [
      "crash_information\n",
      "vehicle_information\n",
      "injury_information\n",
      "misc__information\n"
     ]
    }
   ],
   "source": [
    "crsh_rpt_details = []\n",
    "for i, df in enumerate((df_table_list)):\n",
    "    print(table_names[i])\n",
    "#    print(df)\n",
    "    df['table_name'] = table_names[i]\n",
    "    crsh_rpt_details.append({f'{table_names[i]}':df})"
   ]
  },
  {
   "cell_type": "code",
   "execution_count": 124,
   "id": "b2e7b24a",
   "metadata": {},
   "outputs": [
    {
     "data": {
      "text/plain": [
       "{'vehicle_information':    Veh. # Vehicle Description Damage                   Disposition  \\\n",
       " 0       1   2019 BUICK ENCORE  TOTAL  TOWED BY/TO SPURGEONS TOWING   \n",
       " \n",
       "         Driver Name Driver Gender  Driver Age Safety Device Driver City/State  \\\n",
       " 0  WIENING, JAMES D          MALE          50           YES   BLYTHEVILLE, AR   \n",
       " \n",
       "   Driver Insurance Vehicle Direction           table_name  \n",
       " 0       STATE FARM         WESTBOUND  vehicle_information  }"
      ]
     },
     "execution_count": 124,
     "metadata": {},
     "output_type": "execute_result"
    }
   ],
   "source": [
    "crsh_rpt_details[1]"
   ]
  },
  {
   "cell_type": "code",
   "execution_count": 123,
   "id": "0d9d49f1",
   "metadata": {},
   "outputs": [],
   "source": [
    "browser.back()"
   ]
  },
  {
   "cell_type": "code",
   "execution_count": 125,
   "id": "5cfc60fa",
   "metadata": {},
   "outputs": [],
   "source": [
    "browser.windows[0].close()"
   ]
  },
  {
   "cell_type": "code",
   "execution_count": null,
   "id": "6d89e328",
   "metadata": {},
   "outputs": [],
   "source": [
    "# https://www.tutorialspoint.com/How-can-I-create-a-directory-if-it-does-not-exist-using-Python"
   ]
  }
 ],
 "metadata": {
  "kernelspec": {
   "display_name": "Python 3 (ipykernel)",
   "language": "python",
   "name": "python3"
  },
  "language_info": {
   "codemirror_mode": {
    "name": "ipython",
    "version": 3
   },
   "file_extension": ".py",
   "mimetype": "text/x-python",
   "name": "python",
   "nbconvert_exporter": "python",
   "pygments_lexer": "ipython3",
   "version": "3.10.9"
  }
 },
 "nbformat": 4,
 "nbformat_minor": 5
}
