{
 "cells": [
  {
   "cell_type": "code",
   "execution_count": 17,
   "metadata": {},
   "outputs": [],
   "source": [
    "import pandas as pd\n",
    "import glob\n",
    "import sqlite3\n",
    "import os\n",
    "from pathlib import Path"
   ]
  },
  {
   "cell_type": "code",
   "execution_count": 18,
   "metadata": {},
   "outputs": [],
   "source": [
    "con = sqlite3.connect(\"data/mshp.sqlite\")"
   ]
  },
  {
   "cell_type": "code",
   "execution_count": 40,
   "metadata": {},
   "outputs": [],
   "source": [
    "def build_dataframe(ptrn:str, add_acc_uuid=False)->pd.DataFrame:\n",
    "    dcrpt_lst = []\n",
    "    dcrpt = glob.glob(ptrn)\n",
    "    cols = set()\n",
    "    for fp in dcrpt:\n",
    "        df = pd.read_csv(fp)\n",
    "        cols |= set(df.columns)\n",
    "        if add_acc_uuid:\n",
    "            df['acc_uuid'] = Path(fp).stem\n",
    "        dcrpt_lst.append(df)\n",
    "    if add_acc_uuid:\n",
    "        assert len(df.columns) - len(cols) == 1\n",
    "    else:\n",
    "        assert len(cols) == len(df.columns)\n",
    "    df_all = pd.concat(dcrpt_lst)\n",
    "    return df_all"
   ]
  },
  {
   "cell_type": "code",
   "execution_count": 21,
   "metadata": {},
   "outputs": [],
   "source": [
    "# daily_crash_report\n",
    "name = \"daily_crash_report\"\n",
    "ptrn = fr\"data/*/{name}\"\n",
    "df_all = build_dataframe(ptrn)\n",
    "df_all.to_sql(name, con, if_exists=\"replace\")"
   ]
  },
  {
   "cell_type": "code",
   "execution_count": 41,
   "metadata": {},
   "outputs": [
    {
     "data": {
      "text/plain": [
       "13689"
      ]
     },
     "execution_count": 41,
     "metadata": {},
     "output_type": "execute_result"
    }
   ],
   "source": [
    "#crash information\n",
    "name = \"crash_information\"\n",
    "ptrn = fr\"data/*/{name}/*.csv\"\n",
    "df_all = build_dataframe(ptrn, add_acc_uuid=True)\n",
    "df_all.to_sql(name, con, if_exists=\"replace\")"
   ]
  },
  {
   "cell_type": "code",
   "execution_count": 42,
   "metadata": {},
   "outputs": [
    {
     "data": {
      "text/plain": [
       "23986"
      ]
     },
     "execution_count": 42,
     "metadata": {},
     "output_type": "execute_result"
    }
   ],
   "source": [
    "#injury information\n",
    "name = \"injury_information\"\n",
    "ptrn = fr\"data/*/{name}/*.csv\"\n",
    "df_all = build_dataframe(ptrn, add_acc_uuid=True)\n",
    "df_all.to_sql(name, con, if_exists=\"replace\")"
   ]
  },
  {
   "cell_type": "code",
   "execution_count": 45,
   "metadata": {},
   "outputs": [
    {
     "data": {
      "text/plain": [
       "13689"
      ]
     },
     "execution_count": 45,
     "metadata": {},
     "output_type": "execute_result"
    }
   ],
   "source": [
    "#misc information\n",
    "#note column 0 for text\n",
    "name = \"misc__information\"\n",
    "ptrn = fr\"data/*/{name}/*.csv\"\n",
    "df_all = build_dataframe(ptrn, add_acc_uuid=True)\n",
    "df_all.to_sql(name, con, if_exists=\"replace\")"
   ]
  },
  {
   "cell_type": "code",
   "execution_count": 46,
   "metadata": {},
   "outputs": [
    {
     "data": {
      "text/plain": [
       "24698"
      ]
     },
     "execution_count": 46,
     "metadata": {},
     "output_type": "execute_result"
    }
   ],
   "source": [
    "#vehicle information\n",
    "name = \"vehicle_information\"\n",
    "ptrn = fr\"data/*/{name}/*.csv\"\n",
    "df_all = build_dataframe(ptrn, add_acc_uuid=True)\n",
    "df_all.to_sql(name, con, if_exists=\"replace\")"
   ]
  },
  {
   "cell_type": "code",
   "execution_count": null,
   "metadata": {},
   "outputs": [],
   "source": []
  }
 ],
 "metadata": {
  "kernelspec": {
   "display_name": "Python 3 (ipykernel)",
   "language": "python",
   "name": "python3"
  },
  "language_info": {
   "codemirror_mode": {
    "name": "ipython",
    "version": 3
   },
   "file_extension": ".py",
   "mimetype": "text/x-python",
   "name": "python",
   "nbconvert_exporter": "python",
   "pygments_lexer": "ipython3",
   "version": "3.10.9"
  },
  "vscode": {
   "interpreter": {
    "hash": "880dcd1f9cd3410ac81da025f2dd652eff9d1b20559a4efc4e24a47d4693e7ac"
   }
  }
 },
 "nbformat": 4,
 "nbformat_minor": 2
}
